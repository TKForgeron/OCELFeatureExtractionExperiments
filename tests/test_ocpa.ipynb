{
 "cells": [
  {
   "cell_type": "code",
   "execution_count": 1,
   "metadata": {},
   "outputs": [],
   "source": [
    "\n",
    "def check_prop(fgs0: list, fgs1: list) -> bool:\n",
    "    \"\"\"Checks whether all node values of two lists of feature graphs are equal.\"\"\"\n",
    "    props = [True]\n",
    "    for fg0, fg1 in zip(fgs0, fgs1):\n",
    "        for n0, n1 in zip(fg0.nodes, fg1.nodes):\n",
    "            prop = n0.attributes[TARGET_LABEL] == n1.attributes[TARGET_LABEL]\n",
    "            props = [props[0] and prop]\n",
    "\n",
    "    return props[0]\n",
    "\n",
    "\n",
    "check_prop(fs_nolabel_when_scaling.feature_graphs, feature_storage.feature_graphs)\n"
   ]
  }
 ],
 "metadata": {
  "kernelspec": {
   "display_name": ".env",
   "language": "python",
   "name": "python3"
  },
  "language_info": {
   "codemirror_mode": {
    "name": "ipython",
    "version": 3
   },
   "file_extension": ".py",
   "mimetype": "text/x-python",
   "name": "python",
   "nbconvert_exporter": "python",
   "pygments_lexer": "ipython3",
   "version": "3.9.0"
  },
  "orig_nbformat": 4,
  "vscode": {
   "interpreter": {
    "hash": "6fbe1a019293c11979212df1017f5c3a8203512503371a115c3974d4c744b0fd"
   }
  }
 },
 "nbformat": 4,
 "nbformat_minor": 2
}
