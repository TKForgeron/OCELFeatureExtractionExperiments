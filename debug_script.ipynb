{
  "cells": [
    {
      "cell_type": "code",
      "execution_count": 1,
      "metadata": {},
      "outputs": [
        {
          "name": "stdout",
          "output_type": "stream",
          "text": [
            "Torch version: 1.13.1+cu117\n",
            "Cuda available: True\n",
            "Torch geometric version: 2.2.0\n"
          ]
        }
      ],
      "source": [
        "# SELF REMINDER. Copy the 'ocpa' directory to the forked one from github, so that I can push updates to github.\n",
        "# Python native\n",
        "import pickle\n",
        "from statistics import median, mean\n",
        "import pandas as pd\n",
        "# Data handling\n",
        "# Object centric process mining\n",
        "# import ocpa.algo.evaluation.precision_and_fitness.utils as evaluation_utils # COMMENTED OUT BY TIM\n",
        "# import ocpa.algo.evaluation.precision_and_fitness.evaluator as precision_fitness_evaluator # COMMENTED OUT BY TIM\n",
        "import ocpa.objects.log.importer.csv.factory as csv_import_factory\n",
        "import ocpa.algo.predictive_monitoring.factory as feature_factory\n",
        "from ocpa.objects.log.ocel import OCEL\n",
        "\n",
        "# # Simple machine learning models, procedure tools, and evaluation metrics\n",
        "# from sklearn.model_selection import train_test_split\n",
        "from sklearn.preprocessing import StandardScaler, PowerTransformer\n",
        "\n",
        "# # Custom GNN tools\n",
        "# from gnn_utils import (\n",
        "#     generate_graph_dataset,\n",
        "#     # get_ordered_event_list,\n",
        "#     # visualize_graph,\n",
        "#     # show_remaining_times,\n",
        "#     # visualize_instance,\n",
        "#     # GraphDataLoader,\n",
        "#     # GCN,\n",
        "#     # evaluate_gnn,\n",
        "# )\n",
        "\n",
        "# PyG\n",
        "import torch\n",
        "from replicating.ocpa_PyG_integration.EventGraphDataset import EventGraphDataset\n",
        "\n",
        "# Global variables\n",
        "from replicating.experiment_config import STORAGE_PATH, RANDOM_SEED, TARGET_LABEL\n",
        "\n",
        "filename = \"data/adams/example_logs/mdl/BPI2017-Final.csv\"\n",
        "object_types = [\"application\", \"offer\"]\n",
        "parameters = {\n",
        "    \"obj_names\": object_types,\n",
        "    \"val_names\": [],\n",
        "    \"act_name\": \"event_activity\",\n",
        "    \"time_name\": \"event_timestamp\",\n",
        "    \"sep\": \",\",\n",
        "}\n",
        "file_path_object_attribute_table = None"
      ]
    },
    {
      "cell_type": "code",
      "execution_count": 2,
      "metadata": {},
      "outputs": [],
      "source": [
        "with open(f\"{STORAGE_PATH}/raw/BPI2017-adams.fs\", \"rb\",) as file:\n",
        "    fs = pickle.load( file)"
      ]
    },
    {
      "cell_type": "code",
      "execution_count": 8,
      "metadata": {},
      "outputs": [
        {
          "data": {
            "text/plain": [
              "[100, 101, 102, 103, 104]"
            ]
          },
          "execution_count": 8,
          "metadata": {},
          "output_type": "execute_result"
        }
      ],
      "source": [
        "current_idx = 100\n",
        "x = range(current_idx,current_idx+5)\n",
        "list(x)"
      ]
    },
    {
      "cell_type": "code",
      "execution_count": 2,
      "metadata": {},
      "outputs": [],
      "source": [
        "ds_train = EventGraphDataset(\n",
        "    root=STORAGE_PATH,\n",
        "    filename=\"BPI2017-adams.fs\",\n",
        "    label_key=TARGET_LABEL,\n",
        "    size_subgraph_samples=4,\n",
        "    train=True,\n",
        "    verbosity=51\n",
        ")\n",
        "ds_val = EventGraphDataset(\n",
        "    root=STORAGE_PATH,\n",
        "    filename=\"BPI2017-adams.fs\",\n",
        "    label_key=TARGET_LABEL,\n",
        "    size_subgraph_samples=4,\n",
        "    validation=True,\n",
        "    verbosity=51\n",
        ")\n",
        "ds_test = EventGraphDataset(\n",
        "    root=STORAGE_PATH,\n",
        "    filename=\"BPI2017-adams.fs\",\n",
        "    label_key=TARGET_LABEL,\n",
        "    size_subgraph_samples=4,\n",
        "    test=True,\n",
        "    verbosity=51\n",
        ")"
      ]
    },
    {
      "cell_type": "code",
      "execution_count": 3,
      "metadata": {},
      "outputs": [
        {
          "name": "stderr",
          "output_type": "stream",
          "text": [
            "  0%|          | 0/60007 [00:00<?, ?it/s]\n"
          ]
        },
        {
          "ename": "FileNotFoundError",
          "evalue": "[Errno 2] No such file or directory: 'data/ocpa-processed/processed/data_val_0.pt'",
          "output_type": "error",
          "traceback": [
            "\u001b[0;31m---------------------------------------------------------------------------\u001b[0m",
            "\u001b[0;31mFileNotFoundError\u001b[0m                         Traceback (most recent call last)",
            "Cell \u001b[0;32mIn[3], line 1\u001b[0m\n\u001b[0;32m----> 1\u001b[0m ds_val\u001b[39m.\u001b[39;49mget_summary()\n",
            "File \u001b[0;32m~/Development/OCELFeatureExtractionExperiments/.env/lib/python3.9/site-packages/torch_geometric/data/dataset.py:305\u001b[0m, in \u001b[0;36mDataset.get_summary\u001b[0;34m(self)\u001b[0m\n\u001b[1;32m    303\u001b[0m \u001b[39m\u001b[39m\u001b[39mr\u001b[39m\u001b[39m\"\"\"Collects summary statistics for the dataset.\"\"\"\u001b[39;00m\n\u001b[1;32m    304\u001b[0m \u001b[39mfrom\u001b[39;00m \u001b[39mtorch_geometric\u001b[39;00m\u001b[39m.\u001b[39;00m\u001b[39mdata\u001b[39;00m\u001b[39m.\u001b[39;00m\u001b[39msummary\u001b[39;00m \u001b[39mimport\u001b[39;00m Summary\n\u001b[0;32m--> 305\u001b[0m \u001b[39mreturn\u001b[39;00m Summary\u001b[39m.\u001b[39;49mfrom_dataset(\u001b[39mself\u001b[39;49m)\n",
            "File \u001b[0;32m~/Development/OCELFeatureExtractionExperiments/.env/lib/python3.9/site-packages/torch_geometric/data/summary.py:69\u001b[0m, in \u001b[0;36mSummary.from_dataset\u001b[0;34m(cls, dataset, progress_bar)\u001b[0m\n\u001b[1;32m     66\u001b[0m     dataset \u001b[39m=\u001b[39m tqdm(dataset)\n\u001b[1;32m     68\u001b[0m num_nodes_list, num_edges_list \u001b[39m=\u001b[39m [], []\n\u001b[0;32m---> 69\u001b[0m \u001b[39mfor\u001b[39;00m data \u001b[39min\u001b[39;00m dataset:\n\u001b[1;32m     70\u001b[0m     num_nodes_list\u001b[39m.\u001b[39mappend(data\u001b[39m.\u001b[39mnum_nodes)\n\u001b[1;32m     71\u001b[0m     num_edges_list\u001b[39m.\u001b[39mappend(data\u001b[39m.\u001b[39mnum_edges)\n",
            "File \u001b[0;32m~/Development/OCELFeatureExtractionExperiments/.env/lib/python3.9/site-packages/tqdm/std.py:1195\u001b[0m, in \u001b[0;36mtqdm.__iter__\u001b[0;34m(self)\u001b[0m\n\u001b[1;32m   1192\u001b[0m time \u001b[39m=\u001b[39m \u001b[39mself\u001b[39m\u001b[39m.\u001b[39m_time\n\u001b[1;32m   1194\u001b[0m \u001b[39mtry\u001b[39;00m:\n\u001b[0;32m-> 1195\u001b[0m     \u001b[39mfor\u001b[39;00m obj \u001b[39min\u001b[39;00m iterable:\n\u001b[1;32m   1196\u001b[0m         \u001b[39myield\u001b[39;00m obj\n\u001b[1;32m   1197\u001b[0m         \u001b[39m# Update and possibly print the progressbar.\u001b[39;00m\n\u001b[1;32m   1198\u001b[0m         \u001b[39m# Note: does not call self.update(1) for speed optimisation.\u001b[39;00m\n",
            "File \u001b[0;32m~/Development/OCELFeatureExtractionExperiments/.env/lib/python3.9/site-packages/torch_geometric/data/dataset.py:239\u001b[0m, in \u001b[0;36mDataset.__getitem__\u001b[0;34m(self, idx)\u001b[0m\n\u001b[1;32m    229\u001b[0m \u001b[39m\u001b[39m\u001b[39mr\u001b[39m\u001b[39m\"\"\"In case :obj:`idx` is of type integer, will return the data object\u001b[39;00m\n\u001b[1;32m    230\u001b[0m \u001b[39mat index :obj:`idx` (and transforms it in case :obj:`transform` is\u001b[39;00m\n\u001b[1;32m    231\u001b[0m \u001b[39mpresent).\u001b[39;00m\n\u001b[1;32m    232\u001b[0m \u001b[39mIn case :obj:`idx` is a slicing object, *e.g.*, :obj:`[2:5]`, a list, a\u001b[39;00m\n\u001b[1;32m    233\u001b[0m \u001b[39mtuple, or a :obj:`torch.Tensor` or :obj:`np.ndarray` of type long or\u001b[39;00m\n\u001b[1;32m    234\u001b[0m \u001b[39mbool, will return a subset of the dataset at the specified indices.\"\"\"\u001b[39;00m\n\u001b[1;32m    235\u001b[0m \u001b[39mif\u001b[39;00m (\u001b[39misinstance\u001b[39m(idx, (\u001b[39mint\u001b[39m, np\u001b[39m.\u001b[39minteger))\n\u001b[1;32m    236\u001b[0m         \u001b[39mor\u001b[39;00m (\u001b[39misinstance\u001b[39m(idx, Tensor) \u001b[39mand\u001b[39;00m idx\u001b[39m.\u001b[39mdim() \u001b[39m==\u001b[39m \u001b[39m0\u001b[39m)\n\u001b[1;32m    237\u001b[0m         \u001b[39mor\u001b[39;00m (\u001b[39misinstance\u001b[39m(idx, np\u001b[39m.\u001b[39mndarray) \u001b[39mand\u001b[39;00m np\u001b[39m.\u001b[39misscalar(idx))):\n\u001b[0;32m--> 239\u001b[0m     data \u001b[39m=\u001b[39m \u001b[39mself\u001b[39;49m\u001b[39m.\u001b[39;49mget(\u001b[39mself\u001b[39;49m\u001b[39m.\u001b[39;49mindices()[idx])\n\u001b[1;32m    240\u001b[0m     data \u001b[39m=\u001b[39m data \u001b[39mif\u001b[39;00m \u001b[39mself\u001b[39m\u001b[39m.\u001b[39mtransform \u001b[39mis\u001b[39;00m \u001b[39mNone\u001b[39;00m \u001b[39melse\u001b[39;00m \u001b[39mself\u001b[39m\u001b[39m.\u001b[39mtransform(data)\n\u001b[1;32m    241\u001b[0m     \u001b[39mreturn\u001b[39;00m data\n",
            "File \u001b[0;32m~/Development/OCELFeatureExtractionExperiments/replicating/ocpa_PyG_integration/EventGraphDataset.py:321\u001b[0m, in \u001b[0;36mEventGraphDataset.get\u001b[0;34m(self, idx)\u001b[0m\n\u001b[1;32m    316\u001b[0m \u001b[39mdef\u001b[39;00m \u001b[39mget\u001b[39m(\u001b[39mself\u001b[39m, idx):\n\u001b[1;32m    317\u001b[0m \u001b[39m    \u001b[39m\u001b[39m\"\"\"\u001b[39;00m\n\u001b[1;32m    318\u001b[0m \u001b[39m    - Equivalent to __getitem__ in PyTorch\u001b[39;00m\n\u001b[1;32m    319\u001b[0m \u001b[39m    - Is not needed for PyG's InMemoryDataset\u001b[39;00m\n\u001b[1;32m    320\u001b[0m \u001b[39m    \"\"\"\u001b[39;00m\n\u001b[0;32m--> 321\u001b[0m     \u001b[39mreturn\u001b[39;00m torch\u001b[39m.\u001b[39;49mload(\n\u001b[1;32m    322\u001b[0m         os\u001b[39m.\u001b[39;49mpath\u001b[39m.\u001b[39;49mjoin(\n\u001b[1;32m    323\u001b[0m             \u001b[39mself\u001b[39;49m\u001b[39m.\u001b[39;49mprocessed_dir,\n\u001b[1;32m    324\u001b[0m             \u001b[39mf\u001b[39;49m\u001b[39m\"\u001b[39;49m\u001b[39m{\u001b[39;49;00m\u001b[39mself\u001b[39;49m\u001b[39m.\u001b[39;49m_base_filename\u001b[39m}\u001b[39;49;00m\u001b[39m_\u001b[39;49m\u001b[39m{\u001b[39;49;00midx\u001b[39m}\u001b[39;49;00m\u001b[39m.\u001b[39;49m\u001b[39m{\u001b[39;49;00m\u001b[39mself\u001b[39;49m\u001b[39m.\u001b[39;49m_file_extension\u001b[39m}\u001b[39;49;00m\u001b[39m\"\u001b[39;49m,\n\u001b[1;32m    325\u001b[0m         )\n\u001b[1;32m    326\u001b[0m     )\n",
            "File \u001b[0;32m~/Development/OCELFeatureExtractionExperiments/.env/lib/python3.9/site-packages/torch/serialization.py:771\u001b[0m, in \u001b[0;36mload\u001b[0;34m(f, map_location, pickle_module, weights_only, **pickle_load_args)\u001b[0m\n\u001b[1;32m    768\u001b[0m \u001b[39mif\u001b[39;00m \u001b[39m'\u001b[39m\u001b[39mencoding\u001b[39m\u001b[39m'\u001b[39m \u001b[39mnot\u001b[39;00m \u001b[39min\u001b[39;00m pickle_load_args\u001b[39m.\u001b[39mkeys():\n\u001b[1;32m    769\u001b[0m     pickle_load_args[\u001b[39m'\u001b[39m\u001b[39mencoding\u001b[39m\u001b[39m'\u001b[39m] \u001b[39m=\u001b[39m \u001b[39m'\u001b[39m\u001b[39mutf-8\u001b[39m\u001b[39m'\u001b[39m\n\u001b[0;32m--> 771\u001b[0m \u001b[39mwith\u001b[39;00m _open_file_like(f, \u001b[39m'\u001b[39;49m\u001b[39mrb\u001b[39;49m\u001b[39m'\u001b[39;49m) \u001b[39mas\u001b[39;00m opened_file:\n\u001b[1;32m    772\u001b[0m     \u001b[39mif\u001b[39;00m _is_zipfile(opened_file):\n\u001b[1;32m    773\u001b[0m         \u001b[39m# The zipfile reader is going to advance the current file position.\u001b[39;00m\n\u001b[1;32m    774\u001b[0m         \u001b[39m# If we want to actually tail call to torch.jit.load, we need to\u001b[39;00m\n\u001b[1;32m    775\u001b[0m         \u001b[39m# reset back to the original position.\u001b[39;00m\n\u001b[1;32m    776\u001b[0m         orig_position \u001b[39m=\u001b[39m opened_file\u001b[39m.\u001b[39mtell()\n",
            "File \u001b[0;32m~/Development/OCELFeatureExtractionExperiments/.env/lib/python3.9/site-packages/torch/serialization.py:270\u001b[0m, in \u001b[0;36m_open_file_like\u001b[0;34m(name_or_buffer, mode)\u001b[0m\n\u001b[1;32m    268\u001b[0m \u001b[39mdef\u001b[39;00m \u001b[39m_open_file_like\u001b[39m(name_or_buffer, mode):\n\u001b[1;32m    269\u001b[0m     \u001b[39mif\u001b[39;00m _is_path(name_or_buffer):\n\u001b[0;32m--> 270\u001b[0m         \u001b[39mreturn\u001b[39;00m _open_file(name_or_buffer, mode)\n\u001b[1;32m    271\u001b[0m     \u001b[39melse\u001b[39;00m:\n\u001b[1;32m    272\u001b[0m         \u001b[39mif\u001b[39;00m \u001b[39m'\u001b[39m\u001b[39mw\u001b[39m\u001b[39m'\u001b[39m \u001b[39min\u001b[39;00m mode:\n",
            "File \u001b[0;32m~/Development/OCELFeatureExtractionExperiments/.env/lib/python3.9/site-packages/torch/serialization.py:251\u001b[0m, in \u001b[0;36m_open_file.__init__\u001b[0;34m(self, name, mode)\u001b[0m\n\u001b[1;32m    250\u001b[0m \u001b[39mdef\u001b[39;00m \u001b[39m__init__\u001b[39m(\u001b[39mself\u001b[39m, name, mode):\n\u001b[0;32m--> 251\u001b[0m     \u001b[39msuper\u001b[39m(_open_file, \u001b[39mself\u001b[39m)\u001b[39m.\u001b[39m\u001b[39m__init__\u001b[39m(\u001b[39mopen\u001b[39;49m(name, mode))\n",
            "\u001b[0;31mFileNotFoundError\u001b[0m: [Errno 2] No such file or directory: 'data/ocpa-processed/processed/data_val_0.pt'"
          ]
        }
      ],
      "source": [
        "ds_val.get_summary()"
      ]
    },
    {
      "cell_type": "code",
      "execution_count": null,
      "metadata": {},
      "outputs": [],
      "source": [
        "# Importing OCEL\n",
        "ocel = csv_import_factory.apply(\n",
        "    filename, csv_import_factory.TO_OCEL, parameters, file_path_object_attribute_table\n",
        ")"
      ]
    },
    {
      "cell_type": "code",
      "execution_count": 12,
      "metadata": {},
      "outputs": [],
      "source": [
        "with open(f\"debug/self._mapping-pass.pkl\", \"rb\") as file:\n",
        "    mapping_pass = pickle.load(file)\n",
        "with open(\"debug/attribute-pass.pkl\", \"rb\") as file:\n",
        "    attribute_pass = pickle.load(file)\n",
        "with open(\"debug/e_id-pass.pkl\", \"rb\") as file:\n",
        "    e_id_pass = pickle.load(file)\n",
        "with open(\"debug/self._mapping[attribute][e_id]-pass.pkl\", \"rb\") as file:\n",
        "    value_pass = pickle.load(file)\n",
        "\n",
        "with open(f\"debug/self._mapping-fail.pkl\", \"rb\") as file:\n",
        "    mapping_fail = pickle.load(file)\n",
        "with open(\"debug/attribute-fail.pkl\", \"rb\") as file:\n",
        "    attribute_fail = pickle.load(file)\n",
        "with open(\"debug/e_id-fail.pkl\", \"rb\") as file:\n",
        "    e_id_fail = pickle.load(file)\n",
        "\n",
        "with open(\"debug/ocel.log\", \"rb\") as file:\n",
        "    ocel_log = pickle.load(file)"
      ]
    },
    {
      "cell_type": "code",
      "execution_count": 13,
      "metadata": {},
      "outputs": [
        {
          "data": {
            "text/html": [
              "<div>\n",
              "<style scoped>\n",
              "    .dataframe tbody tr th:only-of-type {\n",
              "        vertical-align: middle;\n",
              "    }\n",
              "\n",
              "    .dataframe tbody tr th {\n",
              "        vertical-align: top;\n",
              "    }\n",
              "\n",
              "    .dataframe thead th {\n",
              "        text-align: right;\n",
              "    }\n",
              "</style>\n",
              "<table border=\"1\" class=\"dataframe\">\n",
              "  <thead>\n",
              "    <tr style=\"text-align: right;\">\n",
              "      <th></th>\n",
              "      <th>application</th>\n",
              "      <th>offer</th>\n",
              "      <th>event_id</th>\n",
              "      <th>event_activity</th>\n",
              "      <th>event_timestamp</th>\n",
              "      <th>event_start_timestamp</th>\n",
              "    </tr>\n",
              "  </thead>\n",
              "  <tbody>\n",
              "    <tr>\n",
              "      <th>0</th>\n",
              "      <td>[Application_652823628]</td>\n",
              "      <td>[]</td>\n",
              "      <td>0</td>\n",
              "      <td>Create application</td>\n",
              "      <td>2016-01-01 10:51:15.304</td>\n",
              "      <td>2016-01-01 10:51:15.304</td>\n",
              "    </tr>\n",
              "    <tr>\n",
              "      <th>1</th>\n",
              "      <td>[Application_652823628]</td>\n",
              "      <td>[]</td>\n",
              "      <td>1</td>\n",
              "      <td>Submit</td>\n",
              "      <td>2016-01-01 10:51:15.352</td>\n",
              "      <td>2016-01-01 10:51:15.352</td>\n",
              "    </tr>\n",
              "    <tr>\n",
              "      <th>2</th>\n",
              "      <td>[Application_652823628]</td>\n",
              "      <td>[]</td>\n",
              "      <td>2</td>\n",
              "      <td>Complete</td>\n",
              "      <td>2016-01-02 11:45:22.429</td>\n",
              "      <td>2016-01-02 11:45:22.429</td>\n",
              "    </tr>\n",
              "    <tr>\n",
              "      <th>3</th>\n",
              "      <td>[Application_652823628]</td>\n",
              "      <td>[]</td>\n",
              "      <td>3</td>\n",
              "      <td>Accept</td>\n",
              "      <td>2016-01-02 12:23:04.299</td>\n",
              "      <td>2016-01-02 12:23:04.299</td>\n",
              "    </tr>\n",
              "    <tr>\n",
              "      <th>4</th>\n",
              "      <td>[Application_652823628]</td>\n",
              "      <td>[Offer_148581083]</td>\n",
              "      <td>4</td>\n",
              "      <td>Create offer</td>\n",
              "      <td>2016-01-02 12:29:05.354</td>\n",
              "      <td>2016-01-02 12:29:05.354</td>\n",
              "    </tr>\n",
              "  </tbody>\n",
              "</table>\n",
              "</div>"
            ],
            "text/plain": [
              "               application              offer  event_id      event_activity  \\\n",
              "0  [Application_652823628]                 []         0  Create application   \n",
              "1  [Application_652823628]                 []         1              Submit   \n",
              "2  [Application_652823628]                 []         2            Complete   \n",
              "3  [Application_652823628]                 []         3              Accept   \n",
              "4  [Application_652823628]  [Offer_148581083]         4        Create offer   \n",
              "\n",
              "          event_timestamp   event_start_timestamp  \n",
              "0 2016-01-01 10:51:15.304 2016-01-01 10:51:15.304  \n",
              "1 2016-01-01 10:51:15.352 2016-01-01 10:51:15.352  \n",
              "2 2016-01-02 11:45:22.429 2016-01-02 11:45:22.429  \n",
              "3 2016-01-02 12:23:04.299 2016-01-02 12:23:04.299  \n",
              "4 2016-01-02 12:29:05.354 2016-01-02 12:29:05.354  "
            ]
          },
          "execution_count": 13,
          "metadata": {},
          "output_type": "execute_result"
        }
      ],
      "source": [
        "map = pd.DataFrame(ocel.log._mapping)\n",
        "map.head()"
      ]
    },
    {
      "cell_type": "code",
      "execution_count": 20,
      "metadata": {},
      "outputs": [
        {
          "data": {
            "text/plain": [
              "{'obj_names': ['application', 'offer'],\n",
              " 'val_names': [],\n",
              " 'act_name': 'event_activity',\n",
              " 'time_name': 'event_timestamp',\n",
              " 'sep': ','}"
            ]
          },
          "execution_count": 20,
          "metadata": {},
          "output_type": "execute_result"
        }
      ],
      "source": [
        "ocel.parameters"
      ]
    },
    {
      "cell_type": "code",
      "execution_count": 28,
      "metadata": {},
      "outputs": [
        {
          "name": "stdout",
          "output_type": "stream",
          "text": [
            "event_timestamp\n",
            "116864\n",
            "2016-05-03 15:02:10.255000\n"
          ]
        },
        {
          "data": {
            "text/html": [
              "<div>\n",
              "<style scoped>\n",
              "    .dataframe tbody tr th:only-of-type {\n",
              "        vertical-align: middle;\n",
              "    }\n",
              "\n",
              "    .dataframe tbody tr th {\n",
              "        vertical-align: top;\n",
              "    }\n",
              "\n",
              "    .dataframe thead th {\n",
              "        text-align: right;\n",
              "    }\n",
              "</style>\n",
              "<table border=\"1\" class=\"dataframe\">\n",
              "  <thead>\n",
              "    <tr style=\"text-align: right;\">\n",
              "      <th></th>\n",
              "      <th>application</th>\n",
              "      <th>offer</th>\n",
              "      <th>event_id</th>\n",
              "      <th>event_activity</th>\n",
              "      <th>event_timestamp</th>\n",
              "      <th>event_start_timestamp</th>\n",
              "      <th>event_objects</th>\n",
              "    </tr>\n",
              "  </thead>\n",
              "  <tbody>\n",
              "    <tr>\n",
              "      <th>0</th>\n",
              "      <td>[Application_652823628]</td>\n",
              "      <td>[]</td>\n",
              "      <td>0</td>\n",
              "      <td>Create application</td>\n",
              "      <td>2016-01-01 10:51:15.304</td>\n",
              "      <td>2016-01-01 10:51:15.304</td>\n",
              "      <td>[(application, Application_652823628)]</td>\n",
              "    </tr>\n",
              "    <tr>\n",
              "      <th>1</th>\n",
              "      <td>[Application_652823628]</td>\n",
              "      <td>[]</td>\n",
              "      <td>1</td>\n",
              "      <td>Submit</td>\n",
              "      <td>2016-01-01 10:51:15.352</td>\n",
              "      <td>2016-01-01 10:51:15.352</td>\n",
              "      <td>[(application, Application_652823628)]</td>\n",
              "    </tr>\n",
              "    <tr>\n",
              "      <th>2</th>\n",
              "      <td>[Application_652823628]</td>\n",
              "      <td>[]</td>\n",
              "      <td>2</td>\n",
              "      <td>Complete</td>\n",
              "      <td>2016-01-02 11:45:22.429</td>\n",
              "      <td>2016-01-02 11:45:22.429</td>\n",
              "      <td>[(application, Application_652823628)]</td>\n",
              "    </tr>\n",
              "    <tr>\n",
              "      <th>3</th>\n",
              "      <td>[Application_652823628]</td>\n",
              "      <td>[]</td>\n",
              "      <td>3</td>\n",
              "      <td>Accept</td>\n",
              "      <td>2016-01-02 12:23:04.299</td>\n",
              "      <td>2016-01-02 12:23:04.299</td>\n",
              "      <td>[(application, Application_652823628)]</td>\n",
              "    </tr>\n",
              "    <tr>\n",
              "      <th>4</th>\n",
              "      <td>[Application_652823628]</td>\n",
              "      <td>[Offer_148581083]</td>\n",
              "      <td>4</td>\n",
              "      <td>Create offer</td>\n",
              "      <td>2016-01-02 12:29:05.354</td>\n",
              "      <td>2016-01-02 12:29:05.354</td>\n",
              "      <td>[(application, Application_652823628), (offer,...</td>\n",
              "    </tr>\n",
              "  </tbody>\n",
              "</table>\n",
              "</div>"
            ],
            "text/plain": [
              "               application              offer  event_id      event_activity  \\\n",
              "0  [Application_652823628]                 []         0  Create application   \n",
              "1  [Application_652823628]                 []         1              Submit   \n",
              "2  [Application_652823628]                 []         2            Complete   \n",
              "3  [Application_652823628]                 []         3              Accept   \n",
              "4  [Application_652823628]  [Offer_148581083]         4        Create offer   \n",
              "\n",
              "          event_timestamp   event_start_timestamp  \\\n",
              "0 2016-01-01 10:51:15.304 2016-01-01 10:51:15.304   \n",
              "1 2016-01-01 10:51:15.352 2016-01-01 10:51:15.352   \n",
              "2 2016-01-02 11:45:22.429 2016-01-02 11:45:22.429   \n",
              "3 2016-01-02 12:23:04.299 2016-01-02 12:23:04.299   \n",
              "4 2016-01-02 12:29:05.354 2016-01-02 12:29:05.354   \n",
              "\n",
              "                                       event_objects  \n",
              "0             [(application, Application_652823628)]  \n",
              "1             [(application, Application_652823628)]  \n",
              "2             [(application, Application_652823628)]  \n",
              "3             [(application, Application_652823628)]  \n",
              "4  [(application, Application_652823628), (offer,...  "
            ]
          },
          "execution_count": 28,
          "metadata": {},
          "output_type": "execute_result"
        }
      ],
      "source": [
        "mapping_pass = pd.DataFrame(mapping_pass)\n",
        "print(attribute_pass)\n",
        "print(e_id_pass)\n",
        "print(value_pass)\n",
        "mapping_pass.head()"
      ]
    },
    {
      "cell_type": "code",
      "execution_count": 30,
      "metadata": {},
      "outputs": [
        {
          "name": "stdout",
          "output_type": "stream",
          "text": [
            "event_RequestedAmount\n",
            "116864\n"
          ]
        },
        {
          "data": {
            "text/html": [
              "<div>\n",
              "<style scoped>\n",
              "    .dataframe tbody tr th:only-of-type {\n",
              "        vertical-align: middle;\n",
              "    }\n",
              "\n",
              "    .dataframe tbody tr th {\n",
              "        vertical-align: top;\n",
              "    }\n",
              "\n",
              "    .dataframe thead th {\n",
              "        text-align: right;\n",
              "    }\n",
              "</style>\n",
              "<table border=\"1\" class=\"dataframe\">\n",
              "  <thead>\n",
              "    <tr style=\"text-align: right;\">\n",
              "      <th></th>\n",
              "      <th>application</th>\n",
              "      <th>offer</th>\n",
              "      <th>event_id</th>\n",
              "      <th>event_activity</th>\n",
              "      <th>event_timestamp</th>\n",
              "      <th>event_start_timestamp</th>\n",
              "      <th>event_objects</th>\n",
              "    </tr>\n",
              "  </thead>\n",
              "  <tbody>\n",
              "    <tr>\n",
              "      <th>0</th>\n",
              "      <td>[Application_652823628]</td>\n",
              "      <td>[]</td>\n",
              "      <td>0</td>\n",
              "      <td>Create application</td>\n",
              "      <td>2016-01-01 10:51:15.304</td>\n",
              "      <td>2016-01-01 10:51:15.304</td>\n",
              "      <td>[(application, Application_652823628)]</td>\n",
              "    </tr>\n",
              "    <tr>\n",
              "      <th>1</th>\n",
              "      <td>[Application_652823628]</td>\n",
              "      <td>[]</td>\n",
              "      <td>1</td>\n",
              "      <td>Submit</td>\n",
              "      <td>2016-01-01 10:51:15.352</td>\n",
              "      <td>2016-01-01 10:51:15.352</td>\n",
              "      <td>[(application, Application_652823628)]</td>\n",
              "    </tr>\n",
              "    <tr>\n",
              "      <th>2</th>\n",
              "      <td>[Application_652823628]</td>\n",
              "      <td>[]</td>\n",
              "      <td>2</td>\n",
              "      <td>Complete</td>\n",
              "      <td>2016-01-02 11:45:22.429</td>\n",
              "      <td>2016-01-02 11:45:22.429</td>\n",
              "      <td>[(application, Application_652823628)]</td>\n",
              "    </tr>\n",
              "    <tr>\n",
              "      <th>3</th>\n",
              "      <td>[Application_652823628]</td>\n",
              "      <td>[]</td>\n",
              "      <td>3</td>\n",
              "      <td>Accept</td>\n",
              "      <td>2016-01-02 12:23:04.299</td>\n",
              "      <td>2016-01-02 12:23:04.299</td>\n",
              "      <td>[(application, Application_652823628)]</td>\n",
              "    </tr>\n",
              "    <tr>\n",
              "      <th>4</th>\n",
              "      <td>[Application_652823628]</td>\n",
              "      <td>[Offer_148581083]</td>\n",
              "      <td>4</td>\n",
              "      <td>Create offer</td>\n",
              "      <td>2016-01-02 12:29:05.354</td>\n",
              "      <td>2016-01-02 12:29:05.354</td>\n",
              "      <td>[(application, Application_652823628), (offer,...</td>\n",
              "    </tr>\n",
              "  </tbody>\n",
              "</table>\n",
              "</div>"
            ],
            "text/plain": [
              "               application              offer  event_id      event_activity  \\\n",
              "0  [Application_652823628]                 []         0  Create application   \n",
              "1  [Application_652823628]                 []         1              Submit   \n",
              "2  [Application_652823628]                 []         2            Complete   \n",
              "3  [Application_652823628]                 []         3              Accept   \n",
              "4  [Application_652823628]  [Offer_148581083]         4        Create offer   \n",
              "\n",
              "          event_timestamp   event_start_timestamp  \\\n",
              "0 2016-01-01 10:51:15.304 2016-01-01 10:51:15.304   \n",
              "1 2016-01-01 10:51:15.352 2016-01-01 10:51:15.352   \n",
              "2 2016-01-02 11:45:22.429 2016-01-02 11:45:22.429   \n",
              "3 2016-01-02 12:23:04.299 2016-01-02 12:23:04.299   \n",
              "4 2016-01-02 12:29:05.354 2016-01-02 12:29:05.354   \n",
              "\n",
              "                                       event_objects  \n",
              "0             [(application, Application_652823628)]  \n",
              "1             [(application, Application_652823628)]  \n",
              "2             [(application, Application_652823628)]  \n",
              "3             [(application, Application_652823628)]  \n",
              "4  [(application, Application_652823628), (offer,...  "
            ]
          },
          "execution_count": 30,
          "metadata": {},
          "output_type": "execute_result"
        }
      ],
      "source": [
        "mapping_fail = pd.DataFrame(mapping_fail)\n",
        "print(attribute_fail)\n",
        "print(e_id_fail)\n",
        "mapping_fail.head()"
      ]
    },
    {
      "cell_type": "code",
      "execution_count": null,
      "metadata": {},
      "outputs": [],
      "source": [
        "try:\n",
        "            self._mapping[attribute][e_id]\n",
        "            with open(\"self._mapping-pass.pkl\", \"wb\") as file:\n",
        "                pickle.dump(self._mapping, file)\n",
        "            with open(\"attribute-pass.pkl\", \"wb\") as file:\n",
        "                pickle.dump(attribute, file)\n",
        "            with open(\"e_id-pass.pkl\", \"wb\") as file:\n",
        "                pickle.dump(e_id, file)\n",
        "            with open(\"self._mapping[attribute][e_id]-pass.pkl\", \"wb\") as file:\n",
        "                pickle.dump(self._mapping[attribute][e_id], file)\n",
        "        except:\n",
        "            with open(\"self._mapping-fail.pkl\", \"wb\") as file:\n",
        "                pickle.dump(self._mapping, file)\n",
        "            with open(\"attribute-fail.pkl\", \"wb\") as file:\n",
        "                pickle.dump(attribute, file)\n",
        "            with open(\"e_id-fail.pkl\", \"wb\") as file:\n",
        "                pickle.dump(e_id, file)"
      ]
    }
  ],
  "metadata": {
    "anaconda-cloud": {},
    "kernelspec": {
      "display_name": "Python 3",
      "language": "python",
      "name": "python3"
    },
    "language_info": {
      "codemirror_mode": {
        "name": "ipython",
        "version": 3
      },
      "file_extension": ".py",
      "mimetype": "text/x-python",
      "name": "python",
      "nbconvert_exporter": "python",
      "pygments_lexer": "ipython3",
      "version": "3.9.16"
    }
  },
  "nbformat": 4,
  "nbformat_minor": 4
}
