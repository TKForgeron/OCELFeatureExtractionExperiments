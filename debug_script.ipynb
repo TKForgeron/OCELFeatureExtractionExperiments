{
  "cells": [
    {
      "cell_type": "code",
      "execution_count": 1,
      "metadata": {},
      "outputs": [
        {
          "name": "stderr",
          "output_type": "stream",
          "text": [
            "c:\\Users\\Tim\\Development\\OCELFeatureExtractionExperiments\\.env\\lib\\site-packages\\tqdm\\auto.py:22: TqdmWarning: IProgress not found. Please update jupyter and ipywidgets. See https://ipywidgets.readthedocs.io/en/stable/user_install.html\n",
            "  from .autonotebook import tqdm as notebook_tqdm\n"
          ]
        },
        {
          "name": "stdout",
          "output_type": "stream",
          "text": [
            "Torch version: 1.13.1+cpu\n",
            "Cuda available: False\n",
            "Torch geometric version: 2.2.0\n"
          ]
        }
      ],
      "source": [
        "# SELF REMINDER. Copy the 'ocpa' directory to the forked one from github, so that I can push updates to github.\n",
        "# Python native\n",
        "import ast\n",
        "import pickle\n",
        "from statistics import median, mean\n",
        "import pandas as pd\n",
        "import numpy as np\n",
        "from copy import copy\n",
        "# Data handling\n",
        "# Object centric process mining\n",
        "# import ocpa.algo.evaluation.precision_and_fitness.utils as evaluation_utils # COMMENTED OUT BY TIM\n",
        "# import ocpa.algo.evaluation.precision_and_fitness.evaluator as precision_fitness_evaluator # COMMENTED OUT BY TIM\n",
        "import ocpa.objects.log.importer.csv.factory as csv_import_factory\n",
        "import ocpa.algo.predictive_monitoring.factory as feature_factory\n",
        "from ocpa.objects.log.ocel import OCEL\n",
        "from ocpa.algo.predictive_monitoring.obj import Feature_Storage as FeatureStorage\n",
        "\n",
        "# # Simple machine learning models, procedure tools, and evaluation metrics\n",
        "# from sklearn.model_selection import train_test_split\n",
        "from sklearn.preprocessing import StandardScaler, PowerTransformer\n",
        "from sklearn.metrics import mean_absolute_error, mean_squared_error, r2_score\n",
        "\n",
        "# # Custom GNN tools\n",
        "# from gnn_utils import (\n",
        "#     generate_graph_dataset,\n",
        "#     # get_ordered_event_list,\n",
        "#     # visualize_graph,\n",
        "#     # show_remaining_times,\n",
        "#     # visualize_instance,\n",
        "#     # GraphDataLoader,\n",
        "#     # GCN,\n",
        "#     # evaluate_gnn,\n",
        "# )\n",
        "\n",
        "# PyG\n",
        "import torch\n",
        "from torch_geometric.loader import DataLoader\n",
        "# from replicating.ocpa_PyG_integration.EventGraphDataset import EventGraphDataset\n",
        "from replicating.ocpa_PyG_integration.EventSubGraphDataset import EventSubGraphDataset\n",
        "from replicating.model import GCN, GAT\n",
        "\n",
        "# PyTorch TensorBoard support\n",
        "from torch.utils.tensorboard import SummaryWriter\n",
        "from datetime import datetime\n",
        "\n",
        "# Global variables\n",
        "from replicating.experiment_config import STORAGE_PATH, FEATURE_STORAGE_FILE, RANDOM_SEED, TARGET_LABEL\n",
        "\n",
        "\n",
        "filename = \"data/adams/example_logs/mdl/BPI2017-Final.csv\"\n",
        "object_types = [\"application\", \"offer\"]\n",
        "parameters = {\n",
        "    \"obj_names\": object_types,\n",
        "    \"val_names\": [],\n",
        "    \"act_name\": \"event_activity\",\n",
        "    \"time_name\": \"event_timestamp\",\n",
        "    \"sep\": \",\",\n",
        "}\n",
        "file_path_object_attribute_table = None"
      ]
    },
    {
      "cell_type": "code",
      "execution_count": 2,
      "metadata": {},
      "outputs": [
        {
          "name": "stderr",
          "output_type": "stream",
          "text": [
            "c:\\Users\\Tim\\Development\\OCELFeatureExtractionExperiments\\.env\\lib\\site-packages\\pandas\\core\\common.py:241: VisibleDeprecationWarning: Creating an ndarray from ragged nested sequences (which is a list-or-tuple of lists-or-tuples-or ndarrays with different lengths or shapes) is deprecated. If you meant to do this, you must specify 'dtype=object' when creating the ndarray.\n",
            "  result = np.asarray(values, dtype=dtype)\n",
            "c:\\Users\\Tim\\Development\\OCELFeatureExtractionExperiments\\.env\\lib\\site-packages\\pandas\\core\\common.py:241: VisibleDeprecationWarning: Creating an ndarray from ragged nested sequences (which is a list-or-tuple of lists-or-tuples-or ndarrays with different lengths or shapes) is deprecated. If you meant to do this, you must specify 'dtype=object' when creating the ndarray.\n",
            "  result = np.asarray(values, dtype=dtype)\n",
            "c:\\Users\\Tim\\Development\\OCELFeatureExtractionExperiments\\.env\\lib\\site-packages\\pandas\\core\\common.py:241: VisibleDeprecationWarning: Creating an ndarray from ragged nested sequences (which is a list-or-tuple of lists-or-tuples-or ndarrays with different lengths or shapes) is deprecated. If you meant to do this, you must specify 'dtype=object' when creating the ndarray.\n",
            "  result = np.asarray(values, dtype=dtype)\n"
          ]
        }
      ],
      "source": [
        "with open(\n",
        "        f\"{STORAGE_PATH}/raw/BPI17-feature_storage-[C2,D1,P2,P3,O3].fs\", \"rb\"\n",
        "    ) as file:\n",
        "        fs: FeatureStorage = pickle.load(file)\n",
        "\n",
        "# Adams didn't give this split a random seed, \n",
        "# thus we can split the validation set in this arbitrary manner\n",
        "fs.extract_normalized_train_test_split(\n",
        "    test_size=0.3,\n",
        "    validation_size=0.7*0.2, \n",
        "    scaler=StandardScaler,\n",
        "    scaling_exempt_features=[],\n",
        "    state=RANDOM_SEED,\n",
        ")"
      ]
    },
    {
      "cell_type": "code",
      "execution_count": 3,
      "metadata": {},
      "outputs": [
        {
          "data": {
            "text/plain": [
              "1706496.518711365"
            ]
          },
          "execution_count": 3,
          "metadata": {},
          "output_type": "execute_result"
        }
      ],
      "source": [
        "test_mae_normed = 0.4386\n",
        "prepared_normalized_data = {TARGET_LABEL:[test_mae_normed, 0.87 ,0.222,2.7]}\n",
        "normalized_data = {'1prev_act':[-1,-2],TARGET_LABEL:[test_mae_normed, test_mae_normed+1],'horse':[1,1],'WRONG':[5,5]}\n",
        "event_features = ['prev_act',TARGET_LABEL,'paart','horse','rem_time']\n",
        "fs.scaler.inverse_transform([test_mae_normed]*25)[-2]"
      ]
    },
    {
      "cell_type": "code",
      "execution_count": 5,
      "metadata": {},
      "outputs": [
        {
          "name": "stderr",
          "output_type": "stream",
          "text": [
            "c:\\Users\\Tim\\Development\\OCELFeatureExtractionExperiments\\.env\\lib\\site-packages\\ocpa\\algo\\predictive_monitoring\\obj.py:316: UserWarning: Could not find keys '{'horse', 'WRONG', '1prev_act'}' as event features in Feature_Storage. They will be excluded from denormalization.\n",
            "  warn(\n"
          ]
        },
        {
          "data": {
            "text/html": [
              "<div>\n",
              "<style scoped>\n",
              "    .dataframe tbody tr th:only-of-type {\n",
              "        vertical-align: middle;\n",
              "    }\n",
              "\n",
              "    .dataframe tbody tr th {\n",
              "        vertical-align: top;\n",
              "    }\n",
              "\n",
              "    .dataframe thead th {\n",
              "        text-align: right;\n",
              "    }\n",
              "</style>\n",
              "<table border=\"1\" class=\"dataframe\">\n",
              "  <thead>\n",
              "    <tr style=\"text-align: right;\">\n",
              "      <th></th>\n",
              "      <th>0</th>\n",
              "      <th>1</th>\n",
              "      <th>2</th>\n",
              "      <th>3</th>\n",
              "      <th>4</th>\n",
              "      <th>5</th>\n",
              "      <th>6</th>\n",
              "      <th>7</th>\n",
              "      <th>8</th>\n",
              "      <th>9</th>\n",
              "      <th>...</th>\n",
              "      <th>15</th>\n",
              "      <th>16</th>\n",
              "      <th>17</th>\n",
              "      <th>18</th>\n",
              "      <th>19</th>\n",
              "      <th>20</th>\n",
              "      <th>21</th>\n",
              "      <th>22</th>\n",
              "      <th>23</th>\n",
              "      <th>24</th>\n",
              "    </tr>\n",
              "  </thead>\n",
              "  <tbody>\n",
              "    <tr>\n",
              "      <th>0</th>\n",
              "      <td>0.079982</td>\n",
              "      <td>0.051701</td>\n",
              "      <td>0.076074</td>\n",
              "      <td>0.079982</td>\n",
              "      <td>0.216048</td>\n",
              "      <td>0.100262</td>\n",
              "      <td>0.138106</td>\n",
              "      <td>0.100674</td>\n",
              "      <td>0.059312</td>\n",
              "      <td>0.059181</td>\n",
              "      <td>...</td>\n",
              "      <td>0.00936</td>\n",
              "      <td>0.032419</td>\n",
              "      <td>0.005267</td>\n",
              "      <td>0.001011</td>\n",
              "      <td>0.000014</td>\n",
              "      <td>0.000181</td>\n",
              "      <td>16479.460734</td>\n",
              "      <td>732939.172227</td>\n",
              "      <td>1.181379e+06</td>\n",
              "      <td>1.432241</td>\n",
              "    </tr>\n",
              "    <tr>\n",
              "      <th>1</th>\n",
              "      <td>0.079982</td>\n",
              "      <td>0.051701</td>\n",
              "      <td>0.076074</td>\n",
              "      <td>0.079982</td>\n",
              "      <td>0.216048</td>\n",
              "      <td>0.100262</td>\n",
              "      <td>0.138106</td>\n",
              "      <td>0.100674</td>\n",
              "      <td>0.059312</td>\n",
              "      <td>0.059181</td>\n",
              "      <td>...</td>\n",
              "      <td>0.00936</td>\n",
              "      <td>0.032419</td>\n",
              "      <td>0.005267</td>\n",
              "      <td>0.001011</td>\n",
              "      <td>0.000014</td>\n",
              "      <td>0.000181</td>\n",
              "      <td>16479.460734</td>\n",
              "      <td>732939.172227</td>\n",
              "      <td>1.181379e+06</td>\n",
              "      <td>2.319387</td>\n",
              "    </tr>\n",
              "  </tbody>\n",
              "</table>\n",
              "<p>2 rows × 25 columns</p>\n",
              "</div>"
            ],
            "text/plain": [
              "         0         1         2         3         4         5         6   \\\n",
              "0  0.079982  0.051701  0.076074  0.079982  0.216048  0.100262  0.138106   \n",
              "1  0.079982  0.051701  0.076074  0.079982  0.216048  0.100262  0.138106   \n",
              "\n",
              "         7         8         9   ...       15        16        17        18  \\\n",
              "0  0.100674  0.059312  0.059181  ...  0.00936  0.032419  0.005267  0.001011   \n",
              "1  0.100674  0.059312  0.059181  ...  0.00936  0.032419  0.005267  0.001011   \n",
              "\n",
              "         19        20            21             22            23        24  \n",
              "0  0.000014  0.000181  16479.460734  732939.172227  1.181379e+06  1.432241  \n",
              "1  0.000014  0.000181  16479.460734  732939.172227  1.181379e+06  2.319387  \n",
              "\n",
              "[2 rows x 25 columns]"
            ]
          },
          "execution_count": 5,
          "metadata": {},
          "output_type": "execute_result"
        }
      ],
      "source": [
        "# KLOPT NOG NIET\n",
        "res = fs.denormalize(normalized_data)\n",
        "pd.DataFrame(res)"
      ]
    },
    {
      "cell_type": "code",
      "execution_count": 12,
      "metadata": {},
      "outputs": [
        {
          "data": {
            "text/plain": [
              "4"
            ]
          },
          "execution_count": 12,
          "metadata": {},
          "output_type": "execute_result"
        }
      ],
      "source": [
        "empty_dict = copy(fs.empty_dict)\n",
        "len(list(empty_dict.values())[0])"
      ]
    },
    {
      "cell_type": "code",
      "execution_count": 49,
      "metadata": {},
      "outputs": [],
      "source": [
        "\n",
        "# prepared_normalized_data\n",
        "# empty_dict.pop(TARGET_LABEL)\n",
        "empty_dict.update(prepared_normalized_data)\n",
        "h = pd.DataFrame(empty_dict)\n",
        "res = fs.scaler.inverse_transform(h)"
      ]
    },
    {
      "cell_type": "code",
      "execution_count": 41,
      "metadata": {},
      "outputs": [
        {
          "data": {
            "text/plain": [
              "{1: [0, 0, 0, 0],\n",
              " 2: [0, 0, 0, 0],\n",
              " 3: [0, 0, 0, 0],\n",
              " 4: [0, 0, 0, 0],\n",
              " 5: [0, 0, 0, 0],\n",
              " 6: [0, 0, 0, 0],\n",
              " 7: [0, 0, 0, 0],\n",
              " 8: [0, 0, 0, 0],\n",
              " 9: [0, 0, 0, 0],\n",
              " 10: [0, 0, 0, 0],\n",
              " 11: [0, 0, 0, 0],\n",
              " 12: [0, 0, 0, 0],\n",
              " 13: [0, 0, 0, 0],\n",
              " 14: [0, 0, 0, 0],\n",
              " 15: [0, 0, 0, 0],\n",
              " 16: [0, 0, 0, 0],\n",
              " 17: [0, 0, 0, 0],\n",
              " 18: [0, 0, 0, 0],\n",
              " 19: [0, 0, 0, 0],\n",
              " 20: [0, 0, 0, 0],\n",
              " 21: [0, 0, 0, 0],\n",
              " 22: [0, 0, 0, 0],\n",
              " 24: [0, 0, 0, 0],\n",
              " ('event_remaining_time', ()): [0.4386, 1.4386],\n",
              " 0: [0, 0]}"
            ]
          },
          "execution_count": 41,
          "metadata": {},
          "output_type": "execute_result"
        }
      ],
      "source": []
    },
    {
      "cell_type": "code",
      "execution_count": 11,
      "metadata": {},
      "outputs": [
        {
          "data": {
            "text/plain": [
              "[(1, \"('event_remaining_time', ())\")]"
            ]
          },
          "execution_count": 11,
          "metadata": {},
          "output_type": "execute_result"
        }
      ],
      "source": [
        "normalized_data_keys = [(i, str(key)) for i,key in enumerate(normalized_data.keys()) if type(key)==tuple]\n",
        "# original_key_idxs = np.argsort(normalized_data_keys)\n",
        "\n",
        "# [ast.literal_eval(key) for key in normalized_data_keys]\n",
        "normalized_data_keys"
      ]
    },
    {
      "cell_type": "code",
      "execution_count": 12,
      "metadata": {},
      "outputs": [
        {
          "data": {
            "text/plain": [
              "{('event_remaining_time', ()), 'horse', 'prev_act'}"
            ]
          },
          "execution_count": 12,
          "metadata": {},
          "output_type": "execute_result"
        }
      ],
      "source": [
        "invalid_keys = set(normalized_data.keys()) - set(event_features)\n",
        "valid_keys = set(normalized_data.keys()) & set(event_features)\n",
        "valid_keys"
      ]
    },
    {
      "cell_type": "code",
      "execution_count": 48,
      "metadata": {},
      "outputs": [
        {
          "data": {
            "text/plain": [
              "{('event_remaining_time', ()), 2, 4, 'horse', 'prev_act'}"
            ]
          },
          "execution_count": 48,
          "metadata": {},
          "output_type": "execute_result"
        }
      ],
      "source": [
        "\n",
        "df = pd.DataFrame(normalized_data)\n",
        "valid_key_idxs_in_event_feats = {event_features.index(key) for key in valid_keys}\n",
        "event_feats_idxs = set(range(len(event_features)))\n",
        "absent_feat_idxs_in_normed_data_keys = event_feats_idxs - valid_key_idxs_in_event_feats\n",
        "empty_dict = {k:v for (k,v) in zip(range(len(event_features)),[[0]*len(df)]*len(event_features))}\n",
        "\n",
        "for key_idx,key in zip(valid_key_idxs_in_event_feats,valid_keys):\n",
        "    for k,v in empty_dict.items():\n",
        "        if key_idx ==k:\n",
        "            empty_dict.update({key_idx:normalized_data[key]})\n",
        "    empty_dict[key] = empty_dict.pop(key_idx)\n",
        "\n",
        "df = pd.DataFrame(empty_dict)\n",
        "set(df.keys())"
      ]
    },
    {
      "cell_type": "code",
      "execution_count": 35,
      "metadata": {},
      "outputs": [
        {
          "data": {
            "text/plain": [
              "[0.4386, 1.4386]"
            ]
          },
          "execution_count": 35,
          "metadata": {},
          "output_type": "execute_result"
        }
      ],
      "source": [
        "normalized_data[TARGET_LABEL]"
      ]
    },
    {
      "cell_type": "code",
      "execution_count": 8,
      "metadata": {},
      "outputs": [
        {
          "data": {
            "text/plain": [
              "('event_remaining_time', ())"
            ]
          },
          "execution_count": 8,
          "metadata": {},
          "output_type": "execute_result"
        }
      ],
      "source": [
        "import ast\n",
        "tup_to_str = str(TARGET_LABEL)\n",
        "ast.literal_eval(tup_to_str)"
      ]
    },
    {
      "cell_type": "code",
      "execution_count": 9,
      "metadata": {},
      "outputs": [
        {
          "data": {
            "text/html": [
              "<div>\n",
              "<style scoped>\n",
              "    .dataframe tbody tr th:only-of-type {\n",
              "        vertical-align: middle;\n",
              "    }\n",
              "\n",
              "    .dataframe tbody tr th {\n",
              "        vertical-align: top;\n",
              "    }\n",
              "\n",
              "    .dataframe thead th {\n",
              "        text-align: right;\n",
              "    }\n",
              "</style>\n",
              "<table border=\"1\" class=\"dataframe\">\n",
              "  <thead>\n",
              "    <tr style=\"text-align: right;\">\n",
              "      <th></th>\n",
              "      <th>event_id</th>\n",
              "      <th>(event_preceding_activities, (Create application,))</th>\n",
              "      <th>(event_preceding_activities, (Submit,))</th>\n",
              "      <th>(event_preceding_activities, (Complete,))</th>\n",
              "      <th>(event_preceding_activities, (Accept,))</th>\n",
              "      <th>(event_preceding_activities, (Create offer,))</th>\n",
              "      <th>(event_preceding_activities, (Send (mail and online),))</th>\n",
              "      <th>(event_preceding_activities, (Call,))</th>\n",
              "      <th>(event_preceding_activities, (Validate,))</th>\n",
              "      <th>(event_preceding_activities, (Return,))</th>\n",
              "      <th>...</th>\n",
              "      <th>(event_preceding_activities, (Handle leads,))</th>\n",
              "      <th>(event_preceding_activities, (Cancel application,))</th>\n",
              "      <th>(event_preceding_activities, (Send (online),))</th>\n",
              "      <th>(event_preceding_activities, (Assess potential fraud,))</th>\n",
              "      <th>(event_preceding_activities, (Personal loan collection,))</th>\n",
              "      <th>(event_preceding_activities, (Shorten completion,))</th>\n",
              "      <th>(event_aggregate_previous_char, (event_RequestedAmount, &lt;built-in function max&gt;))</th>\n",
              "      <th>(event_elapsed_time, ())</th>\n",
              "      <th>(event_remaining_time, ())</th>\n",
              "      <th>(event_previous_type_count, (offer,))</th>\n",
              "    </tr>\n",
              "  </thead>\n",
              "  <tbody>\n",
              "    <tr>\n",
              "      <th>0</th>\n",
              "      <td>236558</td>\n",
              "      <td>-0.294847</td>\n",
              "      <td>-0.233496</td>\n",
              "      <td>-0.286946</td>\n",
              "      <td>-0.294847</td>\n",
              "      <td>-0.523023</td>\n",
              "      <td>-0.328672</td>\n",
              "      <td>-0.400249</td>\n",
              "      <td>-0.33458</td>\n",
              "      <td>-0.250309</td>\n",
              "      <td>...</td>\n",
              "      <td>-0.097205</td>\n",
              "      <td>-0.183044</td>\n",
              "      <td>-0.070832</td>\n",
              "      <td>-0.031809</td>\n",
              "      <td>-0.003688</td>\n",
              "      <td>-0.013466</td>\n",
              "      <td>-1.069468</td>\n",
              "      <td>-0.710438</td>\n",
              "      <td>-0.266181</td>\n",
              "      <td>-1.175837</td>\n",
              "    </tr>\n",
              "    <tr>\n",
              "      <th>1</th>\n",
              "      <td>236559</td>\n",
              "      <td>3.391587</td>\n",
              "      <td>-0.233496</td>\n",
              "      <td>-0.286946</td>\n",
              "      <td>-0.294847</td>\n",
              "      <td>-0.523023</td>\n",
              "      <td>-0.328672</td>\n",
              "      <td>-0.400249</td>\n",
              "      <td>-0.33458</td>\n",
              "      <td>-0.250309</td>\n",
              "      <td>...</td>\n",
              "      <td>-0.097205</td>\n",
              "      <td>-0.183044</td>\n",
              "      <td>-0.070832</td>\n",
              "      <td>-0.031809</td>\n",
              "      <td>-0.003688</td>\n",
              "      <td>-0.013466</td>\n",
              "      <td>-1.069468</td>\n",
              "      <td>-0.710438</td>\n",
              "      <td>-0.266181</td>\n",
              "      <td>-1.175837</td>\n",
              "    </tr>\n",
              "    <tr>\n",
              "      <th>2</th>\n",
              "      <td>236560</td>\n",
              "      <td>-0.294847</td>\n",
              "      <td>-0.233496</td>\n",
              "      <td>3.484972</td>\n",
              "      <td>-0.294847</td>\n",
              "      <td>-0.523023</td>\n",
              "      <td>-0.328672</td>\n",
              "      <td>-0.400249</td>\n",
              "      <td>-0.33458</td>\n",
              "      <td>-0.250309</td>\n",
              "      <td>...</td>\n",
              "      <td>-0.097205</td>\n",
              "      <td>-0.183044</td>\n",
              "      <td>-0.070832</td>\n",
              "      <td>-0.031809</td>\n",
              "      <td>-0.003688</td>\n",
              "      <td>-0.013466</td>\n",
              "      <td>-1.069468</td>\n",
              "      <td>-0.710314</td>\n",
              "      <td>-0.266287</td>\n",
              "      <td>-1.175837</td>\n",
              "    </tr>\n",
              "    <tr>\n",
              "      <th>3</th>\n",
              "      <td>236561</td>\n",
              "      <td>-0.294847</td>\n",
              "      <td>-0.233496</td>\n",
              "      <td>-0.286946</td>\n",
              "      <td>3.391587</td>\n",
              "      <td>-0.523023</td>\n",
              "      <td>-0.328672</td>\n",
              "      <td>-0.400249</td>\n",
              "      <td>-0.33458</td>\n",
              "      <td>-0.250309</td>\n",
              "      <td>...</td>\n",
              "      <td>-0.097205</td>\n",
              "      <td>-0.183044</td>\n",
              "      <td>-0.070832</td>\n",
              "      <td>-0.031809</td>\n",
              "      <td>-0.003688</td>\n",
              "      <td>-0.013466</td>\n",
              "      <td>-1.069468</td>\n",
              "      <td>-0.626416</td>\n",
              "      <td>-0.338582</td>\n",
              "      <td>-0.048627</td>\n",
              "    </tr>\n",
              "    <tr>\n",
              "      <th>4</th>\n",
              "      <td>236562</td>\n",
              "      <td>-0.294847</td>\n",
              "      <td>-0.233496</td>\n",
              "      <td>-0.286946</td>\n",
              "      <td>-0.294847</td>\n",
              "      <td>1.897842</td>\n",
              "      <td>-0.328672</td>\n",
              "      <td>-0.400249</td>\n",
              "      <td>-0.33458</td>\n",
              "      <td>-0.250309</td>\n",
              "      <td>...</td>\n",
              "      <td>-0.097205</td>\n",
              "      <td>-0.183044</td>\n",
              "      <td>-0.070832</td>\n",
              "      <td>-0.031809</td>\n",
              "      <td>-0.003688</td>\n",
              "      <td>-0.013466</td>\n",
              "      <td>-1.069468</td>\n",
              "      <td>-0.626407</td>\n",
              "      <td>-0.338590</td>\n",
              "      <td>-0.048627</td>\n",
              "    </tr>\n",
              "  </tbody>\n",
              "</table>\n",
              "<p>5 rows × 26 columns</p>\n",
              "</div>"
            ],
            "text/plain": [
              "   event_id  (event_preceding_activities, (Create application,))  \\\n",
              "0    236558                                          -0.294847     \n",
              "1    236559                                           3.391587     \n",
              "2    236560                                          -0.294847     \n",
              "3    236561                                          -0.294847     \n",
              "4    236562                                          -0.294847     \n",
              "\n",
              "   (event_preceding_activities, (Submit,))  \\\n",
              "0                                -0.233496   \n",
              "1                                -0.233496   \n",
              "2                                -0.233496   \n",
              "3                                -0.233496   \n",
              "4                                -0.233496   \n",
              "\n",
              "   (event_preceding_activities, (Complete,))  \\\n",
              "0                                  -0.286946   \n",
              "1                                  -0.286946   \n",
              "2                                   3.484972   \n",
              "3                                  -0.286946   \n",
              "4                                  -0.286946   \n",
              "\n",
              "   (event_preceding_activities, (Accept,))  \\\n",
              "0                                -0.294847   \n",
              "1                                -0.294847   \n",
              "2                                -0.294847   \n",
              "3                                 3.391587   \n",
              "4                                -0.294847   \n",
              "\n",
              "   (event_preceding_activities, (Create offer,))  \\\n",
              "0                                      -0.523023   \n",
              "1                                      -0.523023   \n",
              "2                                      -0.523023   \n",
              "3                                      -0.523023   \n",
              "4                                       1.897842   \n",
              "\n",
              "   (event_preceding_activities, (Send (mail and online),))  \\\n",
              "0                                          -0.328672         \n",
              "1                                          -0.328672         \n",
              "2                                          -0.328672         \n",
              "3                                          -0.328672         \n",
              "4                                          -0.328672         \n",
              "\n",
              "   (event_preceding_activities, (Call,))  \\\n",
              "0                              -0.400249   \n",
              "1                              -0.400249   \n",
              "2                              -0.400249   \n",
              "3                              -0.400249   \n",
              "4                              -0.400249   \n",
              "\n",
              "   (event_preceding_activities, (Validate,))  \\\n",
              "0                                   -0.33458   \n",
              "1                                   -0.33458   \n",
              "2                                   -0.33458   \n",
              "3                                   -0.33458   \n",
              "4                                   -0.33458   \n",
              "\n",
              "   (event_preceding_activities, (Return,))  ...  \\\n",
              "0                                -0.250309  ...   \n",
              "1                                -0.250309  ...   \n",
              "2                                -0.250309  ...   \n",
              "3                                -0.250309  ...   \n",
              "4                                -0.250309  ...   \n",
              "\n",
              "   (event_preceding_activities, (Handle leads,))  \\\n",
              "0                                      -0.097205   \n",
              "1                                      -0.097205   \n",
              "2                                      -0.097205   \n",
              "3                                      -0.097205   \n",
              "4                                      -0.097205   \n",
              "\n",
              "   (event_preceding_activities, (Cancel application,))  \\\n",
              "0                                          -0.183044     \n",
              "1                                          -0.183044     \n",
              "2                                          -0.183044     \n",
              "3                                          -0.183044     \n",
              "4                                          -0.183044     \n",
              "\n",
              "   (event_preceding_activities, (Send (online),))  \\\n",
              "0                                       -0.070832   \n",
              "1                                       -0.070832   \n",
              "2                                       -0.070832   \n",
              "3                                       -0.070832   \n",
              "4                                       -0.070832   \n",
              "\n",
              "   (event_preceding_activities, (Assess potential fraud,))  \\\n",
              "0                                          -0.031809         \n",
              "1                                          -0.031809         \n",
              "2                                          -0.031809         \n",
              "3                                          -0.031809         \n",
              "4                                          -0.031809         \n",
              "\n",
              "   (event_preceding_activities, (Personal loan collection,))  \\\n",
              "0                                          -0.003688           \n",
              "1                                          -0.003688           \n",
              "2                                          -0.003688           \n",
              "3                                          -0.003688           \n",
              "4                                          -0.003688           \n",
              "\n",
              "   (event_preceding_activities, (Shorten completion,))  \\\n",
              "0                                          -0.013466     \n",
              "1                                          -0.013466     \n",
              "2                                          -0.013466     \n",
              "3                                          -0.013466     \n",
              "4                                          -0.013466     \n",
              "\n",
              "   (event_aggregate_previous_char, (event_RequestedAmount, <built-in function max>))  \\\n",
              "0                                          -1.069468                                   \n",
              "1                                          -1.069468                                   \n",
              "2                                          -1.069468                                   \n",
              "3                                          -1.069468                                   \n",
              "4                                          -1.069468                                   \n",
              "\n",
              "   (event_elapsed_time, ())  (event_remaining_time, ())  \\\n",
              "0                 -0.710438                   -0.266181   \n",
              "1                 -0.710438                   -0.266181   \n",
              "2                 -0.710314                   -0.266287   \n",
              "3                 -0.626416                   -0.338582   \n",
              "4                 -0.626407                   -0.338590   \n",
              "\n",
              "   (event_previous_type_count, (offer,))  \n",
              "0                              -1.175837  \n",
              "1                              -1.175837  \n",
              "2                              -1.175837  \n",
              "3                              -0.048627  \n",
              "4                              -0.048627  \n",
              "\n",
              "[5 rows x 26 columns]"
            ]
          },
          "execution_count": 9,
          "metadata": {},
          "output_type": "execute_result"
        }
      ],
      "source": [
        "fs.ugly_boy.head()"
      ]
    }
  ],
  "metadata": {
    "anaconda-cloud": {},
    "kernelspec": {
      "display_name": "Python 3",
      "language": "python",
      "name": "python3"
    },
    "language_info": {
      "codemirror_mode": {
        "name": "ipython",
        "version": 3
      },
      "file_extension": ".py",
      "mimetype": "text/x-python",
      "name": "python",
      "nbconvert_exporter": "python",
      "pygments_lexer": "ipython3",
      "version": "3.9.0"
    }
  },
  "nbformat": 4,
  "nbformat_minor": 4
}
