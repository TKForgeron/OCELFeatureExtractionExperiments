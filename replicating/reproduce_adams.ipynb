{
  "cells": [
    {
      "cell_type": "code",
      "execution_count": 5,
      "metadata": {},
      "outputs": [
        {
          "name": "stdout",
          "output_type": "stream",
          "text": [
            "Torch version: 1.13.1+cpu\n",
            "Cuda available: False\n",
            "Torch geometric version: 2.2.0\n"
          ]
        }
      ],
      "source": [
        "# SELF REMINDER. Copy the 'ocpa' directory to the forked one from github, so that I can push updates to github.\n",
        "\n",
        "# Python native\n",
        "import pickle\n",
        "from statistics import median as median\n",
        "from tqdm import tqdm\n",
        "import os\n",
        "import random\n",
        "from sys import platform\n",
        "if platform == \"linux\" or platform == \"linux2\":\n",
        "    os.chdir(\"/home/tim/Development/OCELFeatureExtractionExperiments/\")\n",
        "elif platform == \"win32\":\n",
        "    os.chdir(\"c:\\\\Users\\\\Tim\\\\Development\\\\OCELFeatureExtractionExperiments\")\n",
        "\n",
        "# from copy import deepcopy\n",
        "\n",
        "# Object centric process mining\n",
        "from ocpa.algo.predictive_monitoring.obj import Feature_Storage as FeatureStorage\n",
        "import ocpa.algo.predictive_monitoring.factory as feature_factory\n",
        "\n",
        "# Data handling\n",
        "# import pandas as pd\n",
        "import numpy as np\n",
        "\n",
        "# # Simple machine learning models, procedure tools, and evaluation metrics\n",
        "# from sklearn.model_selection import train_test_split\n",
        "from sklearn.preprocessing import StandardScaler\n",
        "\n",
        "# PyG\n",
        "import torch\n",
        "\n",
        "# from replicating.ocpa_PyG_integration.EventGraphDataset import EventGraphDataset\n",
        "from replicating.ocpa_PyG_integration.EventSubGraphDataset import EventSubGraphDataset\n",
        "\n",
        "# PyTorch TensorBoard support\n",
        "from torch.utils.tensorboard import SummaryWriter\n",
        "from datetime import datetime\n",
        "\n",
        "# Global variables\n",
        "# from replicating.experiment_config import STORAGE_PATH, RANDOM_SEED, TARGET_LABEL\n",
        "STORAGE_PATH = \"data/ocpa-processed\"\n",
        "FEATURE_STORAGE_FILE = \"BPI17-scaled-split.fs\"\n",
        "RANDOM_SEED = 3\n",
        "TARGET_LABEL = (feature_factory.EVENT_REMAINING_TIME, ())\n",
        "SUBGRAPH_SIZE = 4\n",
        "EPOCHS = 30\n",
        "NUM_GRAPHS_PER_BATCH = 64"
      ]
    },
    {
      "cell_type": "code",
      "execution_count": 6,
      "metadata": {},
      "outputs": [],
      "source": [
        "# Initializing random seeds for maximizing reproducibility\n",
        "torch.manual_seed(RANDOM_SEED)\n",
        "def seed_worker(worker_id) -> None:\n",
        "    # worker_seed = torch.initial_seed() % RANDOM_SEED\n",
        "    worker_seed = RANDOM_SEED\n",
        "    np.random.seed(worker_seed)\n",
        "    random.seed(worker_seed)\n",
        "\n",
        "generator = torch.Generator().manual_seed(RANDOM_SEED)\n",
        "# torch.use_deterministic_algorithms(True) # incompatible with GCN"
      ]
    },
    {
      "cell_type": "code",
      "execution_count": 8,
      "metadata": {},
      "outputs": [
        {
          "name": "stderr",
          "output_type": "stream",
          "text": [
            "c:\\Users\\Tim\\Development\\OCELFeatureExtractionExperiments\\.env\\lib\\site-packages\\pandas\\core\\common.py:241: VisibleDeprecationWarning: Creating an ndarray from ragged nested sequences (which is a list-or-tuple of lists-or-tuples-or ndarrays with different lengths or shapes) is deprecated. If you meant to do this, you must specify 'dtype=object' when creating the ndarray.\n",
            "  result = np.asarray(values, dtype=dtype)\n",
            "c:\\Users\\Tim\\Development\\OCELFeatureExtractionExperiments\\.env\\lib\\site-packages\\pandas\\core\\common.py:241: VisibleDeprecationWarning: Creating an ndarray from ragged nested sequences (which is a list-or-tuple of lists-or-tuples-or ndarrays with different lengths or shapes) is deprecated. If you meant to do this, you must specify 'dtype=object' when creating the ndarray.\n",
            "  result = np.asarray(values, dtype=dtype)\n",
            "c:\\Users\\Tim\\Development\\OCELFeatureExtractionExperiments\\.env\\lib\\site-packages\\pandas\\core\\common.py:241: VisibleDeprecationWarning: Creating an ndarray from ragged nested sequences (which is a list-or-tuple of lists-or-tuples-or ndarrays with different lengths or shapes) is deprecated. If you meant to do this, you must specify 'dtype=object' when creating the ndarray.\n",
            "  result = np.asarray(values, dtype=dtype)\n"
          ]
        },
        {
          "name": "stdout",
          "output_type": "stream",
          "text": [
            "No EventSubGraphDataset found with this configuration in 'data\\ocpa-processed\\processed'. Proceeding to processing...\n"
          ]
        },
        {
          "name": "stderr",
          "output_type": "stream",
          "text": [
            "Processing...\n",
            "17645it [09:46, 30.09it/s]\n",
            "Done!\n"
          ]
        }
      ],
      "source": [
        "# If FEATURE_STORAGE_FILE not cached, generate it\n",
        "if not os.path.exists(f\"{STORAGE_PATH}/raw/{FEATURE_STORAGE_FILE}\"):\n",
        "    if not os.path.exists(f\"{STORAGE_PATH}/raw/BPI17-feature_storage-[C2,D1,P2,P3,O3].fs\"):\n",
        "        from importing_ocel import feature_storage\n",
        "    else:\n",
        "        with open(\n",
        "            f\"{STORAGE_PATH}/raw/BPI17-feature_storage-[C2,D1,P2,P3,O3].fs\", \"rb\"\n",
        "        ) as file:\n",
        "            feature_storage: FeatureStorage = pickle.load(file)\n",
        "    \n",
        "    # Adams didn't give this split a random seed, \n",
        "    # thus we can split the validation set in this arbitrary manner\n",
        "    feature_storage.extract_normalized_train_test_split(\n",
        "        test_size=0.3,\n",
        "        validation_size=0.7*0.2, \n",
        "        scaler=StandardScaler,\n",
        "        scaling_exempt_features=[],\n",
        "        state=RANDOM_SEED,\n",
        "    )\n",
        "\n",
        "    with open(\n",
        "        f\"{STORAGE_PATH}/raw/{FEATURE_STORAGE_FILE}\",\n",
        "        \"wb\",\n",
        "    ) as file:\n",
        "        pickle.dump(feature_storage, file)\n",
        "\n",
        "ds_train = EventSubGraphDataset(\n",
        "    train=True,\n",
        "    root=STORAGE_PATH,\n",
        "    filename=FEATURE_STORAGE_FILE,\n",
        "    label_key=TARGET_LABEL,\n",
        "    size_subgraph_samples=SUBGRAPH_SIZE,\n",
        "    verbosity=51,\n",
        ")\n",
        "ds_val = EventSubGraphDataset(\n",
        "    validation=True,\n",
        "    root=STORAGE_PATH,\n",
        "    filename=FEATURE_STORAGE_FILE,\n",
        "    label_key=TARGET_LABEL,\n",
        "    size_subgraph_samples=SUBGRAPH_SIZE,\n",
        "    verbosity=51,\n",
        ")\n",
        "ds_test = EventSubGraphDataset(\n",
        "    test=True,\n",
        "    root=STORAGE_PATH,\n",
        "    filename=FEATURE_STORAGE_FILE,\n",
        "    label_key=TARGET_LABEL,\n",
        "    size_subgraph_samples=SUBGRAPH_SIZE,\n",
        "    verbosity=51,\n",
        ")"
      ]
    },
    {
      "cell_type": "code",
      "execution_count": 10,
      "metadata": {},
      "outputs": [
        {
          "name": "stdout",
          "output_type": "stream",
          "text": [
            "Train set\n"
          ]
        },
        {
          "name": "stderr",
          "output_type": "stream",
          "text": [
            "100%|██████████| 168030/168030 [00:41<00:00, 4003.36it/s]\n"
          ]
        },
        {
          "name": "stdout",
          "output_type": "stream",
          "text": [
            "EventSubGraphDataset (#graphs=168030):\n",
            "+------------+----------+----------+\n",
            "|            |   #nodes |   #edges |\n",
            "|------------+----------+----------|\n",
            "| mean       |        4 |      3   |\n",
            "| std        |        0 |      0.6 |\n",
            "| min        |        4 |      0   |\n",
            "| quantile25 |        4 |      3   |\n",
            "| median     |        4 |      3   |\n",
            "| quantile75 |        4 |      3   |\n",
            "| max        |        4 |      5   |\n",
            "+------------+----------+----------+\n",
            "\n"
          ]
        }
      ],
      "source": [
        "print(\"Train set\")\n",
        "print(ds_train.get_summary())\n",
        "print()\n",
        "\n",
        "# Val and test look the same (most likely)\n",
        "# print(\"Validation set\")\n",
        "# print(ds_val.get_summary())\n",
        "# print()\n",
        "\n",
        "# print(\"Test set\")\n",
        "# print(ds_test.get_summary())\n",
        "# print()"
      ]
    },
    {
      "cell_type": "code",
      "execution_count": 4,
      "metadata": {},
      "outputs": [
        {
          "name": "stdout",
          "output_type": "stream",
          "text": [
            "GCN(\n",
            "  (gconv1): GCNConv(24, 24)\n",
            "  (gconv2): GCNConv(24, 24)\n",
            "  (out): Linear(in_features=96, out_features=1, bias=True)\n",
            ")\n",
            "Number of parameters: 1297\n",
            "Device: cuda:0\n"
          ]
        }
      ],
      "source": [
        "from model import GCN, GAT\n",
        "import torch\n",
        "from torch_geometric.loader import DataLoader\n",
        "from sklearn.metrics import mean_absolute_error, mean_squared_error, r2_score\n",
        "\n",
        "\n",
        "def count_parameters(model) -> int:\n",
        "    return sum(p.numel() for p in model.parameters() if p.requires_grad)\n",
        "\n",
        "\n",
        "# Initialize model\n",
        "model = GCN(\n",
        "    ds_train.num_node_features,\n",
        "    {\n",
        "        \"num_hidden_features\": ds_train.num_node_features,\n",
        "        \"size_subgraph_samples\": SUBGRAPH_SIZE,\n",
        "    },\n",
        ")\n",
        "print(model)\n",
        "print(f\"Number of parameters: {count_parameters(model)}\")\n",
        "\n",
        "\n",
        "# Use GPU\n",
        "device = torch.device(\"cuda:0\" if torch.cuda.is_available() else \"cpu\")\n",
        "print(f\"Device: {device}\")\n",
        "model = model.to(device)\n",
        "# data = ds_train.to(device)\n",
        "\n",
        "# Initialize Optimizer\n",
        "learning_rate = 0.01\n",
        "# decay = 5e-4\n",
        "optimizer = torch.optim.Adam(\n",
        "    model.parameters(),\n",
        "    lr=learning_rate,\n",
        "    #  weight_decay=decay\n",
        ")\n",
        "\n",
        "mse = torch.nn.MSELoss()\n",
        "mae = torch.nn.L1Loss()\n",
        "loss_fn = mae\n",
        "\n",
        "train_loader = DataLoader(\n",
        "    ds_train,\n",
        "    batch_size=NUM_GRAPHS_PER_BATCH,\n",
        "    shuffle=False,\n",
        "    pin_memory=True,\n",
        "    num_workers = 4,\n",
        "    worker_init_fn=seed_worker,\n",
        "    generator=generator,\n",
        ")\n",
        "val_loader = DataLoader(\n",
        "    ds_val,\n",
        "    batch_size=NUM_GRAPHS_PER_BATCH,\n",
        "    shuffle=False,\n",
        "    pin_memory=True,\n",
        "    num_workers = 4,\n",
        "    worker_init_fn=seed_worker,\n",
        "    generator=generator,\n",
        ")\n",
        "test_loader = DataLoader(\n",
        "    ds_test,\n",
        "    batch_size=128,\n",
        "    shuffle=False,\n",
        "    pin_memory=True,\n",
        "    num_workers = 4,\n",
        "    worker_init_fn=seed_worker,\n",
        "    generator=generator,\n",
        ")\n",
        "\n",
        "\n",
        "def train_one_epoch(\n",
        "    epoch_index: int, model, train_loader, optimizer, loss_fn, tb_writer\n",
        ") -> float:\n",
        "    # Enumerate over the data\n",
        "    running_loss = 0.0\n",
        "    last_loss = 0\n",
        "    for i, batch in enumerate(tqdm(train_loader)):\n",
        "        # Use GPU\n",
        "        batch.to(device)\n",
        "        # Every data instance is an input + label pair\n",
        "        inputs, adjacency_matrix, labels = (\n",
        "            batch.x.float(),  # k times the batch_size, where k is the subgraph size\n",
        "            batch.edge_index,\n",
        "            batch.y.float(),\n",
        "        )\n",
        "        # Reset gradients (set_to_none is faster than to zero)\n",
        "        optimizer.zero_grad(set_to_none=True)\n",
        "        # Passing the node features and the connection info\n",
        "        outputs = model(inputs, adjacency_matrix)\n",
        "        # Compute loss and gradients\n",
        "        loss = loss_fn(torch.squeeze(outputs), labels)\n",
        "        loss.backward()\n",
        "        # Adjust learnable weights\n",
        "        optimizer.step()\n",
        "        # Gather data and report\n",
        "        running_loss += loss.item()\n",
        "        if i % 1000 == 999:\n",
        "            last_loss = running_loss / 1000  # loss per batch\n",
        "            print(f\"  batch {i + 1} loss: {last_loss}\")\n",
        "            tb_x = epoch_index * len(train_loader) + i + 1\n",
        "            tb_writer.add_scalar(\"Loss/train\", last_loss, tb_x)\n",
        "            running_loss = 0.0\n",
        "\n",
        "    return last_loss\n",
        "\n",
        "\n",
        "def run_training(\n",
        "    num_epochs, model, train_loader, validation_loader, optimizer, loss_fn, timestamp\n",
        "):\n",
        "    model_path = f\"models/{model.get_class_name()}_{timestamp}\"\n",
        "    if not os.path.exists(model_path):\n",
        "        os.makedirs(model_path)\n",
        "    writer = SummaryWriter(f\"{model_path}/run\")\n",
        "    best_vloss = 1_000_000_000_000_000.0\n",
        "\n",
        "    for epoch in range(num_epochs):\n",
        "        print(f\"EPOCH {epoch + 1}:\")\n",
        "\n",
        "        # Make sure gradient tracking is on, and do a pass over the data\n",
        "        model.train(True)\n",
        "        avg_loss = train_one_epoch(\n",
        "            epoch, model, train_loader, optimizer, loss_fn, writer\n",
        "        )\n",
        "\n",
        "        # We don't need gradients on to do reporting\n",
        "        # model.train(False)\n",
        "\n",
        "        running_vloss = 0.0\n",
        "        for i, vdata in enumerate(validation_loader):\n",
        "            vdata.to(device)\n",
        "            vinputs, vadjacency_matrix, vlabels = (\n",
        "                vdata.x.float(),\n",
        "                vdata.edge_index,\n",
        "                vdata.y.float(),\n",
        "            )\n",
        "            voutputs = model(vinputs, vadjacency_matrix)\n",
        "            vloss = loss_fn(voutputs, vlabels)\n",
        "            running_vloss += vloss\n",
        "\n",
        "        avg_vloss = running_vloss / (i + 1)\n",
        "        print(f\"LOSS train {avg_loss} valid {avg_vloss}\")\n",
        "\n",
        "        # Log the running loss averaged per batch\n",
        "        # for both training and validation\n",
        "        writer.add_scalars(\n",
        "            \"Training vs. Validation Loss\",\n",
        "            {\"Training\": avg_loss, \"Validation\": avg_vloss},\n",
        "            epoch + 1,\n",
        "        )\n",
        "        writer.flush()\n",
        "\n",
        "        # Track best performance, and save the model's state\n",
        "        if avg_vloss < best_vloss:\n",
        "            best_vloss = avg_vloss\n",
        "            torch.save(model.state_dict(), f\"{model_path}/state_dict_epoch{epoch}.pt\")\n",
        "\n",
        "def evaluate_model(\n",
        "    model, dataloader, metric: callable, device: str = \"cpu\", verbose: bool = False\n",
        ") -> float or list[float]:\n",
        "    with torch.no_grad():\n",
        "\n",
        "        def _eval_batch(batch, model):\n",
        "            batch_inputs, batch_adjacency_matrix, batch_labels = (\n",
        "                batch.x.float(),\n",
        "                batch.edge_index,\n",
        "                batch.y.float(),\n",
        "            )\n",
        "            return model(batch_inputs, batch_adjacency_matrix), batch_labels\n",
        "\n",
        "        model.eval()\n",
        "        model.train(False)\n",
        "        model.to(device)\n",
        "        y_preds = torch.tensor([]).to(device)\n",
        "        y_true = torch.tensor([]).to(device)\n",
        "        for batch in tqdm(dataloader, disable=not (verbose)):\n",
        "            batch.to(device)\n",
        "            batch_y_preds, batch_y_true = _eval_batch(batch, model)\n",
        "            y_preds = torch.cat((y_preds, batch_y_preds))\n",
        "            y_true = torch.cat((y_true, batch_y_true))\n",
        "        y_preds = torch.squeeze(y_preds)\n",
        "    return metric(y_preds.to(\"cpu\"), y_true.to(\"cpu\"))\n",
        "\n"
      ]
    },
    {
      "cell_type": "code",
      "execution_count": null,
      "metadata": {},
      "outputs": [],
      "source": [
        "\n",
        "# Initializing in a separate cell so we can easily add more epochs to the same run\n",
        "timestamp = datetime.now().strftime(\"%Y%m%d_%Hh%Mm\")\n",
        "\n",
        "run_training(\n",
        "    num_epochs=EPOCHS,\n",
        "    model=model,\n",
        "    train_loader=train_loader,\n",
        "    validation_loader=val_loader,\n",
        "    optimizer=optimizer,\n",
        "    loss_fn=loss_fn,\n",
        "    timestamp=timestamp,\n",
        ")\n"
      ]
    },
    {
      "cell_type": "code",
      "execution_count": 5,
      "metadata": {},
      "outputs": [
        {
          "data": {
            "text/plain": [
              "<All keys matched successfully>"
            ]
          },
          "execution_count": 5,
          "metadata": {},
          "output_type": "execute_result"
        }
      ],
      "source": [
        "model_path0 = \"/home/tim/Development/OCELFeatureExtractionExperiments/models/GCN_20230315_17h07m/state_dict_epoch26.pt\"\n",
        "model_path = \"/home/tim/Development/OCELFeatureExtractionExperiments/models/GCN_20230315_23h22m/state_dict_epoch6.pt\"\n",
        "model.load_state_dict(torch.load(model_path))"
      ]
    },
    {
      "cell_type": "code",
      "execution_count": 12,
      "metadata": {},
      "outputs": [
        {
          "name": "stderr",
          "output_type": "stream",
          "text": [
            "100%|██████████| 2626/2626 [00:30<00:00, 86.32it/s] \n"
          ]
        },
        {
          "data": {
            "text/plain": [
              "tensor(0.4440)"
            ]
          },
          "execution_count": 12,
          "metadata": {},
          "output_type": "execute_result"
        }
      ],
      "source": [
        "normed_train_mae = evaluate_model(\n",
        "    model=model,\n",
        "    dataloader=train_loader,\n",
        "    metric=mae,\n",
        "    device=device,\n",
        "    verbose=True,\n",
        ")\n",
        "normed_train_mae"
      ]
    },
    {
      "cell_type": "code",
      "execution_count": 13,
      "metadata": {},
      "outputs": [
        {
          "name": "stderr",
          "output_type": "stream",
          "text": [
            "100%|██████████| 657/657 [00:07<00:00, 86.79it/s] \n"
          ]
        },
        {
          "data": {
            "text/plain": [
              "tensor(0.4535)"
            ]
          },
          "execution_count": 13,
          "metadata": {},
          "output_type": "execute_result"
        }
      ],
      "source": [
        "normed_val_mae = evaluate_model(\n",
        "    model=model,\n",
        "    dataloader=val_loader,\n",
        "    metric=mae,\n",
        "    device=device,\n",
        "    verbose=True,\n",
        ")\n",
        "normed_val_mae"
      ]
    },
    {
      "cell_type": "code",
      "execution_count": 14,
      "metadata": {},
      "outputs": [
        {
          "name": "stderr",
          "output_type": "stream",
          "text": [
            "100%|██████████| 699/699 [00:13<00:00, 51.52it/s]\n"
          ]
        },
        {
          "data": {
            "text/plain": [
              "tensor(0.4386)"
            ]
          },
          "execution_count": 14,
          "metadata": {},
          "output_type": "execute_result"
        }
      ],
      "source": [
        "normed_test_mae = evaluate_model(\n",
        "    model=model,\n",
        "    dataloader=test_loader,\n",
        "    metric=mae,\n",
        "    device=device,\n",
        "    verbose=True,\n",
        ")\n",
        "normed_test_mae"
      ]
    },
    {
      "cell_type": "code",
      "execution_count": 9,
      "metadata": {},
      "outputs": [],
      "source": [
        "with open(\n",
        "    f\"{STORAGE_PATH}/raw/{FEATURE_STORAGE_FILE}\",\n",
        "    \"rb\",\n",
        ") as file:\n",
        "    fs: FeatureStorage = pickle.load(file)\n"
      ]
    },
    {
      "cell_type": "code",
      "execution_count": 17,
      "metadata": {},
      "outputs": [
        {
          "name": "stdout",
          "output_type": "stream",
          "text": [
            "Mean absolute error denormalized:\n",
            "Train MAE:  1721453.9\n",
            "Val MAE:    1732891.6\n",
            "Test MAE:   1715052.8\n"
          ]
        }
      ],
      "source": [
        "train_mae = fs.scaler.inverse_transform([normed_train_mae]*25)[-2]\n",
        "val_mae = fs.scaler.inverse_transform([normed_val_mae]*25)[-2]\n",
        "test_mae = fs.scaler.inverse_transform([normed_test_mae]*25)[-2]\n",
        "\n",
        "print(\"Mean absolute error denormalized:\")\n",
        "print('Train MAE: ', train_mae)\n",
        "print('Val MAE:   ', val_mae)\n",
        "print('Test MAE:  ', test_mae)"
      ]
    }
  ],
  "metadata": {
    "anaconda-cloud": {},
    "kernelspec": {
      "display_name": "Python 3",
      "language": "python",
      "name": "python3"
    },
    "language_info": {
      "codemirror_mode": {
        "name": "ipython",
        "version": 3
      },
      "file_extension": ".py",
      "mimetype": "text/x-python",
      "name": "python",
      "nbconvert_exporter": "python",
      "pygments_lexer": "ipython3",
      "version": "3.9.0"
    }
  },
  "nbformat": 4,
  "nbformat_minor": 4
}
