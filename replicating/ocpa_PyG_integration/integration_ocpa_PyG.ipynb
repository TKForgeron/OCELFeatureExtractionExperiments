{
 "cells": [
  {
   "cell_type": "code",
   "execution_count": 1,
   "metadata": {},
   "outputs": [
    {
     "name": "stdout",
     "output_type": "stream",
     "text": [
      "Torch version: 1.13.1+cu117\n",
      "Cuda available: True\n",
      "Torch geometric version: 2.2.0\n",
      "Torch version: 1.13.1+cu117\n",
      "Cuda available: True\n",
      "Torch geometric version: 2.2.0\n"
     ]
    }
   ],
   "source": [
    "# SELF REMINDER. Copy the 'ocpa' directory to the forked one from github, so that I can push updates to github.\n",
    "\n",
    "# Python native\n",
    "import pickle\n",
    "from statistics import median as median\n",
    "from tqdm import tqdm\n",
    "import os\n",
    "os.chdir(\"/home/tim/Development/OCELFeatureExtractionExperiments/\")\n",
    "from copy import deepcopy\n",
    "\n",
    "# Object centric process mining\n",
    "from ocpa.algo.predictive_monitoring.obj import Feature_Storage as FeatureStorage\n",
    "\n",
    "# Data handling\n",
    "import pandas as pd\n",
    "import numpy as np\n",
    "\n",
    "# # Simple machine learning models, procedure tools, and evaluation metrics\n",
    "# from sklearn.model_selection import train_test_split\n",
    "from sklearn.preprocessing import StandardScaler, PowerTransformer\n",
    "\n",
    "# PyG\n",
    "import torch\n",
    "from replicating.ocpa_PyG_integration.EventGraphDataset import EventGraphDataset\n",
    "from replicating.ocpa_PyG_integration.EventSubGraphDataset import EventSubGraphDataset\n",
    "\n",
    "# PyTorch TensorBoard support\n",
    "from torch.utils.tensorboard import SummaryWriter\n",
    "from datetime import datetime\n",
    "\n",
    "# Global variables\n",
    "from replicating.experiment_config import STORAGE_PATH, FEATURE_STORAGE_FILE, RANDOM_SEED, TARGET_LABEL"
   ]
  },
  {
   "cell_type": "code",
   "execution_count": 4,
   "metadata": {},
   "outputs": [],
   "source": [
    "with open(\n",
    "    f\"{STORAGE_PATH}/raw/BPI17-feature_storage-[C2,D1,P2,P3,O3].fs\", \"rb\"\n",
    ") as file:\n",
    "    feature_storage: FeatureStorage = pickle.load(file)\n",
    "\n",
    "\n",
    "feature_storage.extract_normalized_train_test_split(\n",
    "    test_size=0.3,\n",
    "    validation_size=0.2,\n",
    "    scaler=StandardScaler,\n",
    "    scaling_exempt_features=[],\n",
    "    state=RANDOM_SEED,\n",
    ")\n",
    "\n",
    "with open(\n",
    "    f\"{STORAGE_PATH}/raw/{FEATURE_STORAGE_FILE}\",\n",
    "    \"wb\",\n",
    ") as file:\n",
    "    pickle.dump(feature_storage, file)"
   ]
  },
  {
   "cell_type": "code",
   "execution_count": 2,
   "metadata": {},
   "outputs": [],
   "source": [
    "ds_train = EventSubGraphDataset(\n",
    "    root=STORAGE_PATH,\n",
    "    filename=FEATURE_STORAGE_FILE,\n",
    "    label_key=TARGET_LABEL,\n",
    "    size_subgraph_samples=4,\n",
    "    train=True,\n",
    "    verbosity=51\n",
    ")\n",
    "ds_val = EventSubGraphDataset(\n",
    "    root=STORAGE_PATH,\n",
    "    filename=FEATURE_STORAGE_FILE,\n",
    "    label_key=TARGET_LABEL,\n",
    "    size_subgraph_samples=4,\n",
    "    validation=True,\n",
    "    verbosity=51\n",
    ")\n",
    "ds_test = EventSubGraphDataset(\n",
    "    root=STORAGE_PATH,\n",
    "    filename=FEATURE_STORAGE_FILE,\n",
    "    label_key=TARGET_LABEL,\n",
    "    size_subgraph_samples=4,\n",
    "    test=True,\n",
    "    verbosity=51\n",
    ")"
   ]
  },
  {
   "cell_type": "code",
   "execution_count": 3,
   "metadata": {},
   "outputs": [
    {
     "name": "stdout",
     "output_type": "stream",
     "text": [
      "Train set\n"
     ]
    },
    {
     "name": "stderr",
     "output_type": "stream",
     "text": [
      "  0%|          | 716/150012 [01:00<3:31:24, 11.77it/s] \n"
     ]
    },
    {
     "name": "stdout",
     "output_type": "stream",
     "text": [
      "EventSubGraphDataset (#graphs=150012):\n",
      "+------------+----------+----------+\n",
      "|            |   #nodes |   #edges |\n",
      "|------------+----------+----------|\n",
      "| mean       |        4 |      3   |\n",
      "| std        |        0 |      0.6 |\n",
      "| min        |        4 |      1   |\n",
      "| quantile25 |        4 |      3   |\n",
      "| median     |        4 |      3   |\n",
      "| quantile75 |        4 |      3   |\n",
      "| max        |        4 |      5   |\n",
      "+------------+----------+----------+\n",
      "\n",
      "Validation set\n"
     ]
    },
    {
     "name": "stderr",
     "output_type": "stream",
     "text": [
      "  1%|          | 570/60007 [00:16<21:10, 46.78it/s]  "
     ]
    }
   ],
   "source": [
    "print(\"Train set\")\n",
    "print(ds_train.get_summary())\n",
    "print()\n",
    "\n",
    "# # Validation set gives error for now\n",
    "print(\"Validation set\")\n",
    "print(ds_val.get_summary())\n",
    "print()\n",
    "\n",
    "print(\"Test set\")\n",
    "print(ds_test.get_summary())\n",
    "print()"
   ]
  },
  {
   "cell_type": "code",
   "execution_count": 3,
   "metadata": {},
   "outputs": [
    {
     "name": "stdout",
     "output_type": "stream",
     "text": [
      "GCN(\n",
      "  (gconv1): GCNConv(24, 24)\n",
      "  (gconv2): GCNConv(24, 24)\n",
      "  (out): Linear(in_features=24, out_features=1, bias=True)\n",
      ")\n",
      "Number of parameters: 1225\n",
      "Device: cuda:0\n"
     ]
    }
   ],
   "source": [
    "from replicating.model import GCN, GAT\n",
    "import torch\n",
    "from torch_geometric.loader import DataLoader\n",
    "from sklearn.metrics import mean_absolute_error, mean_squared_error, r2_score\n",
    "\n",
    "\n",
    "def count_parameters(model) -> int:\n",
    "    return sum(p.numel() for p in model.parameters() if p.requires_grad)\n",
    "\n",
    "\n",
    "# Initialize model\n",
    "model = GCN(\n",
    "    ds_train.num_node_features, {\"num_hidden_features\": ds_train.num_node_features}\n",
    ")\n",
    "print(model)\n",
    "print(f\"Number of parameters: {count_parameters(model)}\")\n",
    "\n",
    "\n",
    "# Use GPU\n",
    "device = torch.device(\"cuda:0\" if torch.cuda.is_available() else \"cpu\")\n",
    "print(f\"Device: {device}\")\n",
    "model = model.to(device)\n",
    "# data = ds_train.to(device)\n",
    "\n",
    "# Initialize Optimizer\n",
    "learning_rate = 0.01\n",
    "# decay = 5e-4\n",
    "optimizer = torch.optim.Adam(\n",
    "    model.parameters(),\n",
    "    lr=learning_rate,\n",
    "    #  weight_decay=decay\n",
    ")\n",
    "NUM_GRAPHS_PER_BATCH = 64\n",
    "\n",
    "mse = torch.nn.MSELoss()\n",
    "mae = torch.nn.L1Loss()\n",
    "loss_fn = mae\n",
    "\n",
    "train_loader = DataLoader(ds_train, batch_size=NUM_GRAPHS_PER_BATCH, shuffle=True)\n",
    "val_loader = DataLoader(ds_val, batch_size=NUM_GRAPHS_PER_BATCH, shuffle=True)\n",
    "test_loader = DataLoader(ds_test, batch_size=128, shuffle=True)\n",
    "\n",
    "\n",
    "def calculate_metrics(y_pred, y_true, epoch, type):\n",
    "    print(f\"\\n MAE: \\n {mean_absolute_error(y_pred, y_true)}\")\n",
    "    print(f\"MSE: {mean_squared_error(y_true, y_pred)}\")\n",
    "    print(f\"R^2: {r2_score(y_true, y_pred)}\")\n"
   ]
  },
  {
   "cell_type": "code",
   "execution_count": 4,
   "metadata": {},
   "outputs": [],
   "source": [
    "def train_one_epoch(epoch_index:int, model, train_loader, optimizer, loss_fn, tb_writer):\n",
    "    # Enumerate over the data\n",
    "    running_loss = 0.0\n",
    "    last_loss = 0\n",
    "    for i, batch in enumerate(tqdm(train_loader)):\n",
    "        # Use GPU\n",
    "        batch.to(device)\n",
    "        # Every data instance is an input + label pair\n",
    "        inputs, adjacency_matrix, labels = batch.x.float(), batch.edge_index, batch.y.float()\n",
    "        # Reset gradients (set_to_none is faster than to zero)\n",
    "        optimizer.zero_grad(set_to_none=True) \n",
    "        # Passing the node features and the connection info\n",
    "        outputs = model(inputs, adjacency_matrix) \n",
    "        # Compute loss and gradients\n",
    "        loss = loss_fn(torch.squeeze(outputs), labels)\n",
    "        loss.backward()\n",
    "        # Adjust learnable weights\n",
    "        optimizer.step()\n",
    "        # Gather data and report\n",
    "        running_loss += loss.item()\n",
    "        if i % 1000 == 999:\n",
    "            last_loss = running_loss / 1000 # loss per batch\n",
    "            print(f'  batch {i + 1} loss: {last_loss}')\n",
    "            tb_x = epoch_index * len(train_loader) + i + 1\n",
    "            tb_writer.add_scalar('Loss/train', last_loss, tb_x)\n",
    "            running_loss = 0.\n",
    "    \n",
    "    return last_loss\n",
    "\n",
    "def run_training(num_epochs, model, train_loader, validation_loader, optimizer, loss_fn, timestamp):\n",
    "    model_path = f\"models/{model.get_class_name()}_{timestamp}\"\n",
    "    if not os.path.exists(model_path):\n",
    "        os.makedirs(model_path)\n",
    "    writer = SummaryWriter(f\"{model_path}/run\")\n",
    "    best_vloss = 1_000_000_000_000_000.\n",
    "\n",
    "    for epoch in range(num_epochs):\n",
    "        print(f'EPOCH {epoch + 1}:')\n",
    "\n",
    "        # Make sure gradient tracking is on, and do a pass over the data\n",
    "        model.train(True)\n",
    "        avg_loss = train_one_epoch(\n",
    "            epoch, model, train_loader, optimizer, loss_fn, writer\n",
    "        )\n",
    "\n",
    "        # We don't need gradients on to do reporting\n",
    "        model.train(False)\n",
    "\n",
    "        running_vloss = 0.0\n",
    "        for i, vdata in enumerate(validation_loader):\n",
    "            vdata.to(device)\n",
    "            vinputs, vadjacency_matrix, vlabels = vdata.x.float(), vdata.edge_index, vdata.y.float()\n",
    "            voutputs = model(vinputs,vadjacency_matrix)\n",
    "            vloss = loss_fn(voutputs, vlabels)\n",
    "            running_vloss += vloss\n",
    "\n",
    "        avg_vloss = running_vloss / (i + 1)\n",
    "        print(f'LOSS train {avg_loss} valid {avg_vloss}')\n",
    "\n",
    "        # Log the running loss averaged per batch\n",
    "        # for both training and validation\n",
    "        writer.add_scalars('Training vs. Validation Loss',\n",
    "                        { 'Training' : avg_loss, 'Validation' : avg_vloss },\n",
    "                        epoch + 1)\n",
    "        writer.flush()\n",
    "\n",
    "        # Track best performance, and save the model's state\n",
    "        if avg_vloss < best_vloss:\n",
    "            best_vloss = avg_vloss\n",
    "            torch.save(model.state_dict(), f\"{model_path}/state_dict_epoch{epoch}.pt\")"
   ]
  },
  {
   "cell_type": "code",
   "execution_count": 5,
   "metadata": {},
   "outputs": [
    {
     "name": "stdout",
     "output_type": "stream",
     "text": [
      "EPOCH 1:\n"
     ]
    },
    {
     "name": "stderr",
     "output_type": "stream",
     "text": [
      " 25%|██▍       | 585/2344 [53:16<2:40:05,  5.46s/it]"
     ]
    },
    {
     "ename": "",
     "evalue": "",
     "output_type": "error",
     "traceback": [
      "\u001b[1;31mThe Kernel crashed while executing code in the the current cell or a previous cell. Please review the code in the cell(s) to identify a possible cause of the failure. Click <a href='https://aka.ms/vscodeJupyterKernelCrash'>here</a> for more info. View Jupyter <a href='command:jupyter.viewOutput'>log</a> for further details."
     ]
    },
    {
     "ename": "",
     "evalue": "",
     "output_type": "error",
     "traceback": [
      "\u001b[1;31mCanceled future for execute_request message before replies were done"
     ]
    }
   ],
   "source": [
    "# Initializing in a separate cell so we can easily add more epochs to the same run\n",
    "timestamp = datetime.now().strftime('%Y%m%d_%Hh%Mm')\n",
    "EPOCHS = 30\n",
    "\n",
    "run_training(\n",
    "    num_epochs=EPOCHS,\n",
    "    model=model,\n",
    "    train_loader=train_loader,\n",
    "    validation_loader=val_loader,\n",
    "    optimizer=optimizer,\n",
    "    loss_fn=loss_fn,\n",
    "    timestamp=timestamp,\n",
    ")"
   ]
  },
  {
   "cell_type": "code",
   "execution_count": null,
   "metadata": {},
   "outputs": [],
   "source": []
  }
 ],
 "metadata": {
  "kernelspec": {
   "display_name": ".env",
   "language": "python",
   "name": "python3"
  },
  "language_info": {
   "codemirror_mode": {
    "name": "ipython",
    "version": 3
   },
   "file_extension": ".py",
   "mimetype": "text/x-python",
   "name": "python",
   "nbconvert_exporter": "python",
   "pygments_lexer": "ipython3",
   "version": "3.9.16"
  },
  "orig_nbformat": 4,
  "vscode": {
   "interpreter": {
    "hash": "516e2a54aee24775a0c69be2c04ea37f9a1e3a885e9b5ce66393c5c31a61000d"
   }
  }
 },
 "nbformat": 4,
 "nbformat_minor": 2
}
