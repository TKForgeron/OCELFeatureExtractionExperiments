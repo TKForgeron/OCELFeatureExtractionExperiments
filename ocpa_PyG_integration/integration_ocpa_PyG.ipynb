{
 "cells": [
  {
   "cell_type": "code",
   "execution_count": 40,
   "metadata": {},
   "outputs": [],
   "source": [
    "# SELF REMINDER. Copy the 'ocpa' directory to the forked one from github, so that I can push updates to github.\n",
    "\n",
    "# Python native\n",
    "import pickle\n",
    "from statistics import median as median\n",
    "from tqdm import tqdm\n",
    "import os\n",
    "os.chdir(\"c:\\\\Users\\\\Tim\\\\Development\\\\OCELFeatureExtractionExperiments\")\n",
    "from copy import deepcopy\n",
    "\n",
    "# Data handling\n",
    "import pandas as pd\n",
    "import numpy as np\n",
    "\n",
    "# Object centric process mining\n",
    "from ocpa.algo.predictive_monitoring.obj import Feature_Storage as FeatureStorage\n",
    "\n",
    "import torch"
   ]
  },
  {
   "cell_type": "code",
   "execution_count": 2,
   "metadata": {},
   "outputs": [],
   "source": [
    "with open(f\"data/ocpa-processed/raw/BPI2017-feature_storage_split.pkl\", \"rb\") as file:\n",
    "    feature_storage = pickle.load(file)"
   ]
  },
  {
   "cell_type": "code",
   "execution_count": 3,
   "metadata": {},
   "outputs": [],
   "source": [
    "fg = feature_storage.feature_graphs[000]"
   ]
  },
  {
   "cell_type": "code",
   "execution_count": 4,
   "metadata": {},
   "outputs": [
    {
     "data": {
      "text/plain": [
       "41"
      ]
     },
     "execution_count": 4,
     "metadata": {},
     "output_type": "execute_result"
    }
   ],
   "source": [
    "node = fg.nodes[0]\n",
    "len(fg.nodes)"
   ]
  },
  {
   "cell_type": "code",
   "execution_count": 5,
   "metadata": {},
   "outputs": [
    {
     "data": {
      "text/plain": [
       "[0.039741438348965256,\n",
       " 0.0,\n",
       " 9.23273930980806,\n",
       " -0.10730642967938298,\n",
       " -0.1280585556104015,\n",
       " -0.24937157093548487,\n",
       " -0.18464702984559797,\n",
       " -0.39960553353094036,\n",
       " -0.2946012287100759,\n",
       " -0.098614486402827,\n",
       " -0.25076514543722306,\n",
       " -0.5247245193066771,\n",
       " -0.04993664963672101,\n",
       " -0.013590128816165387,\n",
       " -0.0026910077837613636,\n",
       " -0.28648967973671924,\n",
       " -0.32894991470406243,\n",
       " -0.2946012287100759,\n",
       " -0.1096638634668562,\n",
       " -0.029491222951741464,\n",
       " -0.21351486405402273,\n",
       " -0.06861784902634376,\n",
       " 2.9991976827164257,\n",
       " -0.23399299353503455]"
      ]
     },
     "execution_count": 5,
     "metadata": {},
     "output_type": "execute_result"
    }
   ],
   "source": [
    "node_feats = list(node.attributes.values())\n",
    "node_feats"
   ]
  },
  {
   "cell_type": "code",
   "execution_count": 6,
   "metadata": {},
   "outputs": [],
   "source": [
    "node_feats.append(1)"
   ]
  },
  {
   "cell_type": "code",
   "execution_count": 41,
   "metadata": {},
   "outputs": [],
   "source": [
    "node_copy = deepcopy(node)\n",
    "fg_copy = deepcopy(fg)"
   ]
  },
  {
   "cell_type": "code",
   "execution_count": 7,
   "metadata": {},
   "outputs": [],
   "source": [
    "def get_node_features(feature_graph: FeatureStorage.Feature_Graph) -> torch.Tensor:\n",
    "    \"\"\"\n",
    "    This will return a matrix / 2d array of the shape\n",
    "    [Number of Nodes, Node Feature size]\n",
    "    \"\"\"\n",
    "    node_feature_matrix: list[list[torch.float]] = []\n",
    "\n",
    "    for node in feature_graph.nodes:\n",
    "        node_feats = list(node.attributes.values())\n",
    "        # Append node features to matrix\n",
    "        node_feature_matrix.append(node_feats)\n",
    "\n",
    "    node_feature_matrix = np.asarray(node_feature_matrix)\n",
    "    return torch.tensor(node_feature_matrix, dtype=torch.float)\n"
   ]
  },
  {
   "cell_type": "code",
   "execution_count": 8,
   "metadata": {},
   "outputs": [
    {
     "data": {
      "text/plain": [
       "349315"
      ]
     },
     "execution_count": 8,
     "metadata": {},
     "output_type": "execute_result"
    }
   ],
   "source": [
    "node.event_id"
   ]
  },
  {
   "cell_type": "code",
   "execution_count": 9,
   "metadata": {},
   "outputs": [
    {
     "data": {
      "text/plain": [
       "[349315,\n",
       " 349322,\n",
       " 349333,\n",
       " 349338,\n",
       " 349343,\n",
       " 349220,\n",
       " 349222,\n",
       " 349351,\n",
       " 349224,\n",
       " 349352,\n",
       " 349226,\n",
       " 349355,\n",
       " 349228,\n",
       " 349229,\n",
       " 349230,\n",
       " 349354,\n",
       " 349232,\n",
       " 349360,\n",
       " 349363,\n",
       " 349364,\n",
       " 349366,\n",
       " 349238,\n",
       " 349239,\n",
       " 349368,\n",
       " 349369,\n",
       " 349242,\n",
       " 349370,\n",
       " 349371,\n",
       " 349245,\n",
       " 349241,\n",
       " 349247,\n",
       " 349367,\n",
       " 349253,\n",
       " 349269,\n",
       " 349270,\n",
       " 349276,\n",
       " 349277,\n",
       " 349290,\n",
       " 349291,\n",
       " 349307,\n",
       " 349309]"
      ]
     },
     "execution_count": 9,
     "metadata": {},
     "output_type": "execute_result"
    }
   ],
   "source": [
    "[node.event_id for node in fg.nodes]"
   ]
  },
  {
   "cell_type": "code",
   "execution_count": 10,
   "metadata": {},
   "outputs": [
    {
     "data": {
      "text/plain": [
       "<enumerate at 0x1b755daf580>"
      ]
     },
     "execution_count": 10,
     "metadata": {},
     "output_type": "execute_result"
    }
   ],
   "source": [
    "enumerate(pd.DataFrame([1,23,4,4,5,56,6,6,7,8]).index)"
   ]
  },
  {
   "cell_type": "code",
   "execution_count": 11,
   "metadata": {},
   "outputs": [
    {
     "name": "stdout",
     "output_type": "stream",
     "text": [
      "349315\n"
     ]
    },
    {
     "data": {
      "text/plain": [
       "349322"
      ]
     },
     "execution_count": 11,
     "metadata": {},
     "output_type": "execute_result"
    }
   ],
   "source": [
    "edge = fg.edges[0]\n",
    "print(edge.source)\n",
    "edge.target"
   ]
  },
  {
   "cell_type": "code",
   "execution_count": 12,
   "metadata": {},
   "outputs": [],
   "source": [
    "def get_adjacency_info(feature_graph: FeatureStorage.Feature_Graph) -> torch.Tensor:\n",
    "        \"\"\"\n",
    "        Function that returns the directed adjacency matrix in COO format, given a graph\n",
    "        [2, Number of edges]\n",
    "        \"\"\"\n",
    "        # Map event_id to node_index (counting from 0) using a dictionary\n",
    "        node_index_map = {\n",
    "            id: i\n",
    "            for i, id in enumerate([node.event_id for node in feature_graph.nodes])\n",
    "        }\n",
    "        # Actually map event_id to node_index\n",
    "        # so we have an index-based (event_id-agnostic) directed COO adjacency_matrix.\n",
    "        adjacency_matrix_COO = [\n",
    "                [node_index_map[e.source] for e in feature_graph.edges],\n",
    "                [node_index_map[e.target] for e in feature_graph.edges],\n",
    "            ]\n",
    "\n",
    "        return torch.tensor(adjacency_matrix_COO, dtype=torch.long)"
   ]
  },
  {
   "cell_type": "code",
   "execution_count": 13,
   "metadata": {},
   "outputs": [
    {
     "data": {
      "text/plain": [
       "[-0.9893098759134624,\n",
       " -0.9893098659424169,\n",
       " -0.9893098592950532,\n",
       " -0.98930985347861,\n",
       " -0.9893098476621668,\n",
       " -0.9893098410148032,\n",
       " -0.9893098310437576,\n",
       " -0.9893098277200758,\n",
       " -0.9877787479228477,\n",
       " -0.6392069869823708,\n",
       " -0.6391946195622515,\n",
       " -0.6379436164624697,\n",
       " -0.6379331601594072,\n",
       " -0.5444421579523229,\n",
       " -0.5436335028374455,\n",
       " -0.5436334961900817,\n",
       " -0.47703311663879994,\n",
       " -0.4770331099914363,\n",
       " -0.4678090129461043,\n",
       " 0.039741438348965256,\n",
       " 0.09347081095812397,\n",
       " 2.159864902264432,\n",
       " 2.160011410159852,\n",
       " 3.96035538035428,\n",
       " 3.960373564217616,\n",
       " 4.537440200483287,\n",
       " 4.5374527606769535,\n",
       " 5.197870983391954,\n",
       " 5.492397419204066,\n",
       " 6.842259495864558,\n",
       " 6.842268932628217,\n",
       " 6.842281055757721,\n",
       " 6.842287153052053,\n",
       " 8.634564927156203,\n",
       " 8.634564939620011,\n",
       " 8.634564970364067,\n",
       " 8.634586342469207,\n",
       " 8.634593374549056,\n",
       " 8.63468200467987,\n",
       " 8.63483330200082,\n",
       " 8.635773864076803]"
      ]
     },
     "execution_count": 13,
     "metadata": {},
     "output_type": "execute_result"
    }
   ],
   "source": [
    "rem_times = [node.attributes[(\"event_remaining_time\", ())] for node in fg.nodes]\n",
    "sorted(rem_times)"
   ]
  },
  {
   "cell_type": "code",
   "execution_count": 14,
   "metadata": {},
   "outputs": [],
   "source": [
    "\n",
    "def split_X_y(feature_graph: FeatureStorage.Feature_Graph, label_key\n",
    "    ) -> tuple[FeatureStorage.Feature_Graph, list[torch.float]]:\n",
    "        \"\"\"\n",
    "        Function that takes the target label from a feature graph \n",
    "        and returns them both separately in a tuple of shape\n",
    "        [A Feature_Graph, Number of Nodes]\n",
    "        \"\"\"\n",
    "        a = [node.attributes[label_key] for node in feature_graph.nodes]\n",
    "        [{key: val for key, val in node.attributes.items() if key != label_key} for node in feature_graph.nodes]\n",
    "        y=[]\n",
    "        \n",
    "        return feature_graph, y"
   ]
  },
  {
   "cell_type": "code",
   "execution_count": 15,
   "metadata": {},
   "outputs": [
    {
     "name": "stdout",
     "output_type": "stream",
     "text": [
      "[0.039741438348965256, -0.4678090129461043, -0.47703311663879994, -0.5436335028374455, -0.5444421579523229, 8.635773864076803, 8.634564939620011, -0.6379331601594072, 8.63483330200082, -0.6379436164624697, 8.63468200467987, -0.6392069869823708, 8.634593374549056, 8.634586342469207, 8.634564970364067, -0.6391946195622515, 8.634564927156203, -0.9877787479228477, -0.9893098277200758, -0.9893098310437576, -0.9893098410148032, 6.842287153052053, 6.842281055757721, -0.98930985347861, -0.9893098592950532, 6.842259495864558, -0.9893098659424169, -0.9893098759134624, 5.197870983391954, 6.842268932628217, 5.492397419204066, -0.9893098476621668, -0.5436334961900817, 4.5374527606769535, 4.537440200483287, 3.960373564217616, 3.96035538035428, 2.160011410159852, 2.159864902264432, -0.4770331099914363, 0.09347081095812397]\n"
     ]
    }
   ],
   "source": [
    "split_fg, y = split_X_y(fg, (\"event_remaining_time\", ()))"
   ]
  },
  {
   "cell_type": "code",
   "execution_count": 16,
   "metadata": {},
   "outputs": [
    {
     "data": {
      "text/plain": [
       "<ocpa.algo.predictive_monitoring.obj.Feature_Storage.Feature_Graph at 0x1b726386e20>"
      ]
     },
     "execution_count": 16,
     "metadata": {},
     "output_type": "execute_result"
    }
   ],
   "source": [
    "split_fg"
   ]
  },
  {
   "cell_type": "code",
   "execution_count": null,
   "metadata": {},
   "outputs": [],
   "source": []
  },
  {
   "cell_type": "code",
   "execution_count": 39,
   "metadata": {},
   "outputs": [],
   "source": [
    "def _split_X_y(self,feature_graph: FeatureStorage.Feature_Graph, label_key\n",
    "    ) -> list[torch.float]:\n",
    "        \"\"\"\n",
    "        Impure function that splits off the target label from a feature graph \n",
    "        and returns them both separately in a tuple of shape\n",
    "        [A Feature_Graph, Number of Nodes]\n",
    "        \"\"\"\n",
    "        ys = [node.attributes.pop(label_key) for node in feature_graph.nodes]\n",
    "        \n",
    "        return ys"
   ]
  },
  {
   "cell_type": "code",
   "execution_count": 51,
   "metadata": {},
   "outputs": [
    {
     "ename": "KeyError",
     "evalue": "('event_remaining_time', ())",
     "output_type": "error",
     "traceback": [
      "\u001b[1;31m---------------------------------------------------------------------------\u001b[0m",
      "\u001b[1;31mKeyError\u001b[0m                                  Traceback (most recent call last)",
      "Cell \u001b[1;32mIn[51], line 1\u001b[0m\n\u001b[1;32m----> 1\u001b[0m ys \u001b[39m=\u001b[39m test_rem_y(fg_copy, (\u001b[39m\"\u001b[39;49m\u001b[39mevent_remaining_time\u001b[39;49m\u001b[39m\"\u001b[39;49m, ()))\n",
      "Cell \u001b[1;32mIn[39], line 8\u001b[0m, in \u001b[0;36mtest_rem_y\u001b[1;34m(feature_graph, label_key)\u001b[0m\n\u001b[0;32m      1\u001b[0m \u001b[39mdef\u001b[39;00m \u001b[39mtest_rem_y\u001b[39m(feature_graph: FeatureStorage\u001b[39m.\u001b[39mFeature_Graph, label_key\n\u001b[0;32m      2\u001b[0m     ) \u001b[39m-\u001b[39m\u001b[39m>\u001b[39m \u001b[39mtuple\u001b[39m[FeatureStorage\u001b[39m.\u001b[39mFeature_Graph, \u001b[39mlist\u001b[39m[torch\u001b[39m.\u001b[39mfloat]]:\n\u001b[0;32m      3\u001b[0m \u001b[39m        \u001b[39m\u001b[39m\"\"\"\u001b[39;00m\n\u001b[0;32m      4\u001b[0m \u001b[39m        Impure function that splits off the target label from a feature graph \u001b[39;00m\n\u001b[0;32m      5\u001b[0m \u001b[39m        and returns them both separately in a tuple of shape\u001b[39;00m\n\u001b[0;32m      6\u001b[0m \u001b[39m        [A Feature_Graph, Number of Nodes]\u001b[39;00m\n\u001b[0;32m      7\u001b[0m \u001b[39m        \"\"\"\u001b[39;00m\n\u001b[1;32m----> 8\u001b[0m         ys \u001b[39m=\u001b[39m [node\u001b[39m.\u001b[39mattributes\u001b[39m.\u001b[39mpop(label_key) \u001b[39mfor\u001b[39;00m node \u001b[39min\u001b[39;00m feature_graph\u001b[39m.\u001b[39mnodes]\n\u001b[0;32m     10\u001b[0m         \u001b[39mreturn\u001b[39;00m ys\n",
      "Cell \u001b[1;32mIn[39], line 8\u001b[0m, in \u001b[0;36m<listcomp>\u001b[1;34m(.0)\u001b[0m\n\u001b[0;32m      1\u001b[0m \u001b[39mdef\u001b[39;00m \u001b[39mtest_rem_y\u001b[39m(feature_graph: FeatureStorage\u001b[39m.\u001b[39mFeature_Graph, label_key\n\u001b[0;32m      2\u001b[0m     ) \u001b[39m-\u001b[39m\u001b[39m>\u001b[39m \u001b[39mtuple\u001b[39m[FeatureStorage\u001b[39m.\u001b[39mFeature_Graph, \u001b[39mlist\u001b[39m[torch\u001b[39m.\u001b[39mfloat]]:\n\u001b[0;32m      3\u001b[0m \u001b[39m        \u001b[39m\u001b[39m\"\"\"\u001b[39;00m\n\u001b[0;32m      4\u001b[0m \u001b[39m        Impure function that splits off the target label from a feature graph \u001b[39;00m\n\u001b[0;32m      5\u001b[0m \u001b[39m        and returns them both separately in a tuple of shape\u001b[39;00m\n\u001b[0;32m      6\u001b[0m \u001b[39m        [A Feature_Graph, Number of Nodes]\u001b[39;00m\n\u001b[0;32m      7\u001b[0m \u001b[39m        \"\"\"\u001b[39;00m\n\u001b[1;32m----> 8\u001b[0m         ys \u001b[39m=\u001b[39m [node\u001b[39m.\u001b[39;49mattributes\u001b[39m.\u001b[39;49mpop(label_key) \u001b[39mfor\u001b[39;00m node \u001b[39min\u001b[39;00m feature_graph\u001b[39m.\u001b[39mnodes]\n\u001b[0;32m     10\u001b[0m         \u001b[39mreturn\u001b[39;00m ys\n",
      "\u001b[1;31mKeyError\u001b[0m: ('event_remaining_time', ())"
     ]
    }
   ],
   "source": [
    "ys = test_rem_y(fg_copy, (\"event_remaining_time\", ()))"
   ]
  },
  {
   "cell_type": "code",
   "execution_count": 50,
   "metadata": {},
   "outputs": [
    {
     "data": {
      "text/plain": [
       "{('event_remaining_time', ()): 0.039741438348965256,\n",
       " ('event_previous_type_count', ('GDSRCPT',)): 0.0,\n",
       " ('event_elapsed_time', ()): 9.23273930980806,\n",
       " ('event_preceding_activities', ('Pending',)): -0.10730642967938298,\n",
       " ('event_preceding_activities', ('Cancel offer',)): -0.1280585556104015,\n",
       " ('event_preceding_activities', ('Return',)): -0.24937157093548487,\n",
       " ('event_preceding_activities', ('Cancel application',)): -0.18464702984559797,\n",
       " ('event_preceding_activities', ('Call',)): -0.39960553353094036,\n",
       " ('event_preceding_activities', ('Accept',)): -0.2946012287100759,\n",
       " ('event_preceding_activities', ('Handle leads',)): -0.098614486402827,\n",
       " ('event_preceding_activities',\n",
       "  ('Call incomplete files',)): -0.25076514543722306,\n",
       " ('event_preceding_activities', ('Create offer',)): -0.5247245193066771,\n",
       " ('event_preceding_activities', ('Refuse offer',)): -0.04993664963672101,\n",
       " ('event_preceding_activities',\n",
       "  ('Shorten completion',)): -0.013590128816165387,\n",
       " ('event_preceding_activities',\n",
       "  ('Personal loan collection',)): -0.0026910077837613636,\n",
       " ('event_preceding_activities', ('Complete',)): -0.28648967973671924,\n",
       " ('event_preceding_activities',\n",
       "  ('Send (mail and online)',)): -0.32894991470406243,\n",
       " ('event_preceding_activities', ('Create application',)): -0.2946012287100759,\n",
       " ('event_preceding_activities', ('Deny',)): -0.1096638634668562,\n",
       " ('event_preceding_activities',\n",
       "  ('Assess potential fraud',)): -0.029491222951741464,\n",
       " ('event_preceding_activities', ('Accept offer',)): -0.21351486405402273,\n",
       " ('event_preceding_activities', ('Send (online)',)): -0.06861784902634376,\n",
       " ('event_preceding_activities', ('Validate',)): 2.9991976827164257,\n",
       " ('event_preceding_activities', ('Submit',)): -0.23399299353503455}"
      ]
     },
     "execution_count": 50,
     "metadata": {},
     "output_type": "execute_result"
    }
   ],
   "source": [
    "fg.nodes[0].attributes"
   ]
  },
  {
   "cell_type": "code",
   "execution_count": 49,
   "metadata": {},
   "outputs": [
    {
     "data": {
      "text/plain": [
       "{('event_previous_type_count', ('GDSRCPT',)): 0.0,\n",
       " ('event_elapsed_time', ()): 9.23273930980806,\n",
       " ('event_preceding_activities', ('Pending',)): -0.10730642967938298,\n",
       " ('event_preceding_activities', ('Cancel offer',)): -0.1280585556104015,\n",
       " ('event_preceding_activities', ('Return',)): -0.24937157093548487,\n",
       " ('event_preceding_activities', ('Cancel application',)): -0.18464702984559797,\n",
       " ('event_preceding_activities', ('Call',)): -0.39960553353094036,\n",
       " ('event_preceding_activities', ('Accept',)): -0.2946012287100759,\n",
       " ('event_preceding_activities', ('Handle leads',)): -0.098614486402827,\n",
       " ('event_preceding_activities',\n",
       "  ('Call incomplete files',)): -0.25076514543722306,\n",
       " ('event_preceding_activities', ('Create offer',)): -0.5247245193066771,\n",
       " ('event_preceding_activities', ('Refuse offer',)): -0.04993664963672101,\n",
       " ('event_preceding_activities',\n",
       "  ('Shorten completion',)): -0.013590128816165387,\n",
       " ('event_preceding_activities',\n",
       "  ('Personal loan collection',)): -0.0026910077837613636,\n",
       " ('event_preceding_activities', ('Complete',)): -0.28648967973671924,\n",
       " ('event_preceding_activities',\n",
       "  ('Send (mail and online)',)): -0.32894991470406243,\n",
       " ('event_preceding_activities', ('Create application',)): -0.2946012287100759,\n",
       " ('event_preceding_activities', ('Deny',)): -0.1096638634668562,\n",
       " ('event_preceding_activities',\n",
       "  ('Assess potential fraud',)): -0.029491222951741464,\n",
       " ('event_preceding_activities', ('Accept offer',)): -0.21351486405402273,\n",
       " ('event_preceding_activities', ('Send (online)',)): -0.06861784902634376,\n",
       " ('event_preceding_activities', ('Validate',)): 2.9991976827164257,\n",
       " ('event_preceding_activities', ('Submit',)): -0.23399299353503455}"
      ]
     },
     "execution_count": 49,
     "metadata": {},
     "output_type": "execute_result"
    }
   ],
   "source": [
    "fg_copy.nodes[0].attributes"
   ]
  },
  {
   "cell_type": "code",
   "execution_count": null,
   "metadata": {},
   "outputs": [],
   "source": []
  },
  {
   "cell_type": "code",
   "execution_count": 35,
   "metadata": {},
   "outputs": [],
   "source": []
  },
  {
   "cell_type": "code",
   "execution_count": 38,
   "metadata": {},
   "outputs": [
    {
     "ename": "AttributeError",
     "evalue": "can't set attribute",
     "output_type": "error",
     "traceback": [
      "\u001b[1;31m---------------------------------------------------------------------------\u001b[0m",
      "\u001b[1;31mAttributeError\u001b[0m                            Traceback (most recent call last)",
      "Cell \u001b[1;32mIn[38], line 1\u001b[0m\n\u001b[1;32m----> 1\u001b[0m node_copy\u001b[39m.\u001b[39;49mattributes \u001b[39m=\u001b[39m x[\u001b[39m0\u001b[39m]\n\u001b[0;32m      2\u001b[0m node_copy\u001b[39m.\u001b[39mattributes\n",
      "\u001b[1;31mAttributeError\u001b[0m: can't set attribute"
     ]
    }
   ],
   "source": [
    "node_copy.attributes = x[0]\n",
    "node_copy.attributes"
   ]
  }
 ],
 "metadata": {
  "kernelspec": {
   "display_name": ".env",
   "language": "python",
   "name": "python3"
  },
  "language_info": {
   "codemirror_mode": {
    "name": "ipython",
    "version": 3
   },
   "file_extension": ".py",
   "mimetype": "text/x-python",
   "name": "python",
   "nbconvert_exporter": "python",
   "pygments_lexer": "ipython3",
   "version": "3.9.0"
  },
  "orig_nbformat": 4,
  "vscode": {
   "interpreter": {
    "hash": "6fbe1a019293c11979212df1017f5c3a8203512503371a115c3974d4c744b0fd"
   }
  }
 },
 "nbformat": 4,
 "nbformat_minor": 2
}
